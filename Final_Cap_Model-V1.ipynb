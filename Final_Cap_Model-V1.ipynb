{
 "cells": [
  {
   "cell_type": "markdown",
   "id": "d587e354",
   "metadata": {},
   "source": [
    "## Import Module"
   ]
  },
  {
   "cell_type": "code",
   "execution_count": 149,
   "id": "4b5fcf82",
   "metadata": {},
   "outputs": [],
   "source": [
    "import numpy as np\n",
    "import pandas as pd\n",
    "from collections import Counter\n",
    "\n",
    "import seaborn as sns\n",
    "import matplotlib.pyplot as plt\n",
    "from datetime import datetime\n",
    "\n",
    "from wordcloud import WordCloud, STOPWORDS \n",
    "import random\n",
    "import time\n",
    "import re \n",
    "import string\n",
    "import nltk\n",
    "\n",
    "from sklearn.model_selection import train_test_split,RepeatedStratifiedKFold\n",
    "\n",
    "from sklearn.feature_extraction.text import TfidfVectorizer\n",
    "from sklearn.feature_extraction.text import TfidfTransformer\n",
    "\n",
    "from sklearn.naive_bayes import MultinomialNB\n",
    "from sklearn.linear_model import LogisticRegression\n",
    "from sklearn.ensemble import RandomForestClassifier\n",
    "from sklearn.svm import LinearSVC\n",
    "from xgboost.sklearn import XGBClassifier\n",
    "from sklearn.model_selection import cross_val_score\n",
    "from sklearn.metrics import confusion_matrix, accuracy_score, classification_report\n",
    "from sklearn import metrics\n",
    "\n",
    "from imblearn.pipeline import Pipeline\n",
    "from sklearn.pipeline import make_pipeline\n",
    "from sklearn.metrics import plot_confusion_matrix, f1_score,auc,roc_curve,roc_auc_score, log_loss, make_scorer, precision_recall_curve\n",
    "from sklearn.model_selection import StratifiedKFold\n",
    "from sklearn.model_selection import GridSearchCV\n",
    "\n",
    "pd.options.mode.chained_assignment = None  # default value='warn'"
   ]
  },
  {
   "cell_type": "code",
   "execution_count": 152,
   "id": "99ad95d9",
   "metadata": {},
   "outputs": [],
   "source": [
    "df2 = pd.read_csv('df_clean_text.csv')"
   ]
  },
  {
   "cell_type": "code",
   "execution_count": 153,
   "id": "98026087",
   "metadata": {},
   "outputs": [
    {
     "data": {
      "text/html": [
       "<div>\n",
       "<style scoped>\n",
       "    .dataframe tbody tr th:only-of-type {\n",
       "        vertical-align: middle;\n",
       "    }\n",
       "\n",
       "    .dataframe tbody tr th {\n",
       "        vertical-align: top;\n",
       "    }\n",
       "\n",
       "    .dataframe thead th {\n",
       "        text-align: right;\n",
       "    }\n",
       "</style>\n",
       "<table border=\"1\" class=\"dataframe\">\n",
       "  <thead>\n",
       "    <tr style=\"text-align: right;\">\n",
       "      <th></th>\n",
       "      <th>complaint_date</th>\n",
       "      <th>product</th>\n",
       "      <th>complaint_narrative</th>\n",
       "      <th>product_id</th>\n",
       "      <th>text_length</th>\n",
       "      <th>complaint_processed</th>\n",
       "      <th>clean_text</th>\n",
       "    </tr>\n",
       "  </thead>\n",
       "  <tbody>\n",
       "    <tr>\n",
       "      <th>0</th>\n",
       "      <td>8/9/2019</td>\n",
       "      <td>Money transfer, virtual currency, or money ser...</td>\n",
       "      <td>In an attempt to purchase concert tickets, I c...</td>\n",
       "      <td>0</td>\n",
       "      <td>1518</td>\n",
       "      <td>attempt purchase concert tickets communicated ...</td>\n",
       "      <td>attempt purchase concert tickets communicated ...</td>\n",
       "    </tr>\n",
       "    <tr>\n",
       "      <th>1</th>\n",
       "      <td>1/27/2020</td>\n",
       "      <td>Credit or prepaid card</td>\n",
       "      <td>In XX/XX/2019 I called Chase to discuss my cre...</td>\n",
       "      <td>1</td>\n",
       "      <td>1467</td>\n",
       "      <td>called discuss credit card bill also close acc...</td>\n",
       "      <td>called chase discuss credit card bill also clo...</td>\n",
       "    </tr>\n",
       "  </tbody>\n",
       "</table>\n",
       "</div>"
      ],
      "text/plain": [
       "  complaint_date                                            product  \\\n",
       "0       8/9/2019  Money transfer, virtual currency, or money ser...   \n",
       "1      1/27/2020                             Credit or prepaid card   \n",
       "\n",
       "                                 complaint_narrative  product_id  text_length  \\\n",
       "0  In an attempt to purchase concert tickets, I c...           0         1518   \n",
       "1  In XX/XX/2019 I called Chase to discuss my cre...           1         1467   \n",
       "\n",
       "                                 complaint_processed  \\\n",
       "0  attempt purchase concert tickets communicated ...   \n",
       "1  called discuss credit card bill also close acc...   \n",
       "\n",
       "                                          clean_text  \n",
       "0  attempt purchase concert tickets communicated ...  \n",
       "1  called chase discuss credit card bill also clo...  "
      ]
     },
     "execution_count": 153,
     "metadata": {},
     "output_type": "execute_result"
    }
   ],
   "source": [
    "df2.head(2)"
   ]
  },
  {
   "cell_type": "code",
   "execution_count": 154,
   "id": "be155aea",
   "metadata": {},
   "outputs": [
    {
     "data": {
      "text/plain": [
       "(11831, 7)"
      ]
     },
     "execution_count": 154,
     "metadata": {},
     "output_type": "execute_result"
    }
   ],
   "source": [
    "df2.shape"
   ]
  },
  {
   "cell_type": "code",
   "execution_count": 155,
   "id": "1b0f56fc",
   "metadata": {},
   "outputs": [
    {
     "name": "stdout",
     "output_type": "stream",
     "text": [
      "product\n",
      "Credit or prepaid card                                4111\n",
      "Checking or savings account                           3364\n",
      "Credit reporting, repair, or other                    1636\n",
      "Payday, title, or personal loan                       1390\n",
      "Money transfer, virtual currency, or money service     754\n",
      "Debt collection                                        517\n",
      "Bank account or other service                           59\n",
      "dtype: int64\n"
     ]
    }
   ],
   "source": [
    "products = df2.groupby('product').size()\n",
    "products.sort_values(ascending = False, inplace = True)\n",
    "print(products)"
   ]
  },
  {
   "cell_type": "markdown",
   "id": "75890402",
   "metadata": {},
   "source": [
    "## Merging relevant classes"
   ]
  },
  {
   "cell_type": "code",
   "execution_count": 156,
   "id": "e8996555",
   "metadata": {},
   "outputs": [],
   "source": [
    "df2.replace({'product':\n",
    "             {\n",
    "    'Money transfer, virtual currency, or money service':'Bank account, debt, money or other service',\n",
    "    'Debt collection':'Bank account, debt, money or other service',\n",
    "    'Bank account or other service':'Bank account, debt, money or other service'\n",
    "    \n",
    "    \n",
    "}}, inplace = True)"
   ]
  },
  {
   "cell_type": "code",
   "execution_count": 157,
   "id": "0afb6747",
   "metadata": {},
   "outputs": [
    {
     "name": "stdout",
     "output_type": "stream",
     "text": [
      "product\n",
      "Credit or prepaid card                        4111\n",
      "Checking or savings account                   3364\n",
      "Credit reporting, repair, or other            1636\n",
      "Payday, title, or personal loan               1390\n",
      "Bank account, debt, money or other service    1330\n",
      "dtype: int64\n"
     ]
    }
   ],
   "source": [
    "#checking product classes again\n",
    "products = df2.groupby('product').size()\n",
    "products.sort_values(ascending = False, inplace = True)\n",
    "print(products)"
   ]
  },
  {
   "cell_type": "code",
   "execution_count": 5,
   "id": "169110c8",
   "metadata": {},
   "outputs": [],
   "source": [
    "# Merging some of the product categories and renaming for better understanding\n",
    "#df2.replace({'product': \n",
    "             {'Credit reporting, credit repair services, or other personal consumer reports': \n",
    "              'Credit reporting, repair, or other', \n",
    "              'Credit reporting': 'Credit reporting, repair, or other',\n",
    "             'Credit card': 'Credit or prepaid card',\n",
    "             'Credit card or prepaid card': 'Credit or prepaid card', \n",
    "             'Prepaid card': 'Credit or prepaid card',\n",
    "             'Payday loan, title loan, or personal loan': 'Payday, title, or personal loan',\n",
    "             'Money transfers': 'Money transfer, virtual currency, or money service',\n",
    "             'Consumer Loan':'Payday, title, or personal loan',\n",
    "             'Student loan': 'Payday, title, or personal loan',\n",
    "             'Vehicle loan or lease':'Payday, title, or personal loan',\n",
    "              'Bank account or service':'Bank account or other service',\n",
    "             'Other financial service':'Bank account or other service',\n",
    "             'Mortgage':'Payday, title, or personal loan',\n",
    "             'Debt collection': 'Bank account or other service'\n",
    "              \n",
    "              \n",
    "             }},inplace = True)"
   ]
  },
  {
   "cell_type": "code",
   "execution_count": 158,
   "id": "273ad810",
   "metadata": {},
   "outputs": [],
   "source": [
    "# Now mapping each class with specific value for further use\n",
    "df2['product_id'] = df2['product'].factorize()[0]"
   ]
  },
  {
   "cell_type": "code",
   "execution_count": 159,
   "id": "a8a2fafc",
   "metadata": {},
   "outputs": [
    {
     "data": {
      "text/plain": [
       "array([0, 1, 2, 3, 4], dtype=int64)"
      ]
     },
     "execution_count": 159,
     "metadata": {},
     "output_type": "execute_result"
    }
   ],
   "source": [
    "# check uinque of product_id column\n",
    "df2.product_id.unique()"
   ]
  },
  {
   "cell_type": "code",
   "execution_count": 27,
   "id": "f6718e05",
   "metadata": {},
   "outputs": [],
   "source": [
    "tfidf = TfidfVectorizer(sublinear_tf =True, # log form for frequency\n",
    "                        min_df=5, # minimun number of documents a word must be present\n",
    "                        use_idf = True, # \n",
    "                        norm = u'l2', # set euclidian norm of 1\n",
    "                        ngram_range = (1,2), # consider unigram and bigram\n",
    "                        smooth_idf = True, \n",
    "                        stop_words = 'english' # remove pronouns, remove noisy features\n",
    "                       )\n",
    "\n",
    "# Applying the vectorizer\n",
    "X = tfidf.fit_transform(df2.clean_text)"
   ]
  },
  {
   "cell_type": "code",
   "execution_count": 28,
   "id": "0c4dd322",
   "metadata": {},
   "outputs": [
    {
     "data": {
      "text/plain": [
       "(11831, 36971)"
      ]
     },
     "execution_count": 28,
     "metadata": {},
     "output_type": "execute_result"
    }
   ],
   "source": [
    "X.shape"
   ]
  },
  {
   "cell_type": "code",
   "execution_count": 29,
   "id": "051d8db1",
   "metadata": {},
   "outputs": [],
   "source": [
    "y = df2['product_id']"
   ]
  },
  {
   "cell_type": "code",
   "execution_count": 30,
   "id": "02deb79d",
   "metadata": {},
   "outputs": [],
   "source": [
    "# Train Test and Split\n",
    "X_train, X_test, y_train, y_test = train_test_split(X, y,test_size=0.2,random_state=44)"
   ]
  },
  {
   "cell_type": "markdown",
   "id": "c504d0ef",
   "metadata": {},
   "source": [
    "### Metrics"
   ]
  },
  {
   "cell_type": "code",
   "execution_count": 112,
   "id": "b3a268eb",
   "metadata": {},
   "outputs": [],
   "source": [
    "# Global Metrics variable\n",
    "model_metrics = {'model':[],'accuracy':[],'roc_auc_score':[],'F1-score(1)':[],'F1-score(2)':[],'F1-score(3)':[]}"
   ]
  },
  {
   "cell_type": "code",
   "execution_count": 145,
   "id": "0b6db31a",
   "metadata": {},
   "outputs": [
    {
     "data": {
      "text/plain": [
       "{'model': ['Random Forest(base)',\n",
       "  'Random Forest(tuned)',\n",
       "  'Logistic Regression(base)',\n",
       "  'Logistic Regression(tuned)',\n",
       "  'Naive bayes(base)',\n",
       "  'Naive bayes(tuned)',\n",
       "  'Linear SVC(base)',\n",
       "  'Linear SVC(tuned)',\n",
       "  'XGBoost(base)',\n",
       "  'XGBoost(tuned)'],\n",
       " 'accuracy': ['0.78',\n",
       "  '0.74',\n",
       "  '0.82',\n",
       "  '0.82',\n",
       "  '0.71',\n",
       "  '0.71',\n",
       "  '0.83',\n",
       "  '0.82',\n",
       "  '0.80',\n",
       "  '0.77'],\n",
       " 'roc_auc_score': ['0.92',\n",
       "  '0.94',\n",
       "  '0.95',\n",
       "  '0.95',\n",
       "  '0.93',\n",
       "  '0.93',\n",
       "  '0.95',\n",
       "  '0.95',\n",
       "  '0.94',\n",
       "  '0.91'],\n",
       " 'F1-score(1)': ['0.84',\n",
       "  '0.79',\n",
       "  '0.88',\n",
       "  '0.88',\n",
       "  '0.78',\n",
       "  '0.78',\n",
       "  '0.88',\n",
       "  '0.88',\n",
       "  '0.85',\n",
       "  '0.83'],\n",
       " 'F1-score(2)': ['0.81',\n",
       "  '0.81',\n",
       "  '0.86',\n",
       "  '0.86',\n",
       "  '0.81',\n",
       "  '0.81',\n",
       "  '0.86',\n",
       "  '0.85',\n",
       "  '0.83',\n",
       "  '0.80'],\n",
       " 'F1-score(3)': ['0.82',\n",
       "  '0.77',\n",
       "  '0.86',\n",
       "  '0.85',\n",
       "  '0.62',\n",
       "  '0.62',\n",
       "  '0.86',\n",
       "  '0.86',\n",
       "  '0.84',\n",
       "  '0.81']}"
      ]
     },
     "execution_count": 145,
     "metadata": {},
     "output_type": "execute_result"
    }
   ],
   "source": [
    "model_metrics"
   ]
  },
  {
   "cell_type": "markdown",
   "id": "9291f595",
   "metadata": {},
   "source": [
    "## A. Random Forest"
   ]
  },
  {
   "cell_type": "markdown",
   "id": "d76b40b7",
   "metadata": {},
   "source": [
    "### Random Forest(base)"
   ]
  },
  {
   "cell_type": "code",
   "execution_count": 91,
   "id": "2148ddd5",
   "metadata": {},
   "outputs": [
    {
     "name": "stdout",
     "output_type": "stream",
     "text": [
      "              precision    recall  f1-score   support\n",
      "\n",
      "           0       0.76      0.25      0.37       247\n",
      "           1       0.79      0.89      0.84       853\n",
      "           2       0.75      0.88      0.81       674\n",
      "           3       0.85      0.79      0.82       275\n",
      "           4       0.75      0.65      0.70       318\n",
      "\n",
      "    accuracy                           0.78      2367\n",
      "   macro avg       0.78      0.69      0.71      2367\n",
      "weighted avg       0.78      0.78      0.76      2367\n",
      "\n",
      "roc_auc_score: 0.924681\n"
     ]
    },
    {
     "data": {
      "image/png": "[encoded data removed]",
      "text/plain": [
       "<Figure size 432x288 with 2 Axes>"
      ]
     },
     "metadata": {
      "needs_background": "light"
     },
     "output_type": "display_data"
    }
   ],
   "source": [
    "rf_clf = RandomForestClassifier(n_estimators=24, random_state=64)\n",
    "rf_clf.fit(X_train, y_train)\n",
    "\n",
    "rf_predict =rf_clf.predict(X_test)\n",
    "rf_pred_proba =rf_clf.predict_proba(X_test)\n",
    "\n",
    "cnf_matrix = metrics.confusion_matrix(y_test, rf_predict)\n",
    "\n",
    "class_names=[0,1,2,3,4] # name  of classes\n",
    "fig, ax = plt.subplots()\n",
    "tick_marks = np.arange(len(class_names))\n",
    "plt.xticks(tick_marks, class_names)\n",
    "plt.yticks(tick_marks, class_names)\n",
    "# create heatmap\n",
    "sns.heatmap(pd.DataFrame(cnf_matrix), annot=True, cmap=\"YlGnBu\" ,fmt='g')\n",
    "ax.xaxis.set_label_position(\"top\")\n",
    "plt.tight_layout()\n",
    "plt.title('Confusion matrix', y=1.1)\n",
    "plt.ylabel('Actual label')\n",
    "plt.xlabel('Predicted label')\n",
    "\n",
    "print(classification_report(y_test,rf_predict, labels=np.unique(rf_predict)))\n",
    "\n",
    "print('roc_auc_score: {:3f}'.format(roc_auc_score(y_test, rf_pred_proba, multi_class = 'ovr')))"
   ]
  },
  {
   "cell_type": "markdown",
   "id": "9c0fd81d",
   "metadata": {},
   "source": [
    "#### Append Metrics Random Forest(base)"
   ]
  },
  {
   "cell_type": "code",
   "execution_count": 114,
   "id": "ae8a0927",
   "metadata": {},
   "outputs": [],
   "source": [
    "#model_metrics['model']\n",
    "model_metrics['model'].append('Random Forest(base)')\n",
    "#model_metrics['accuracy']\n",
    "model_metrics['accuracy'].append(format(metrics.accuracy_score(y_test, rf_predict, sample_weight = None),'.2f'))\n",
    "#model_metrics['roc_auc_score']\n",
    "model_metrics['roc_auc_score'].append(format(roc_auc_score(y_test, rf_pred_proba, multi_class = 'ovr'),'.2f'))\n",
    "#model_metrics['F1-score(1)']\n",
    "model_metrics['F1-score(1)'].append(format(metrics.f1_score(y_test, rf_predict, average = 'weighted', labels = [1]),'.2f'))\n",
    "#model_metrics['F1-score(2)']\n",
    "model_metrics['F1-score(2)'].append(format(metrics.f1_score(y_test, rf_predict, average = 'weighted', labels = [2]),'.2f'))\n",
    "#model_metrics['F1-score(3)']\n",
    "model_metrics['F1-score(3)'].append(format(metrics.f1_score(y_test, rf_predict, average = 'weighted', labels = [3]),'.2f'))"
   ]
  },
  {
   "cell_type": "markdown",
   "id": "e7f91a7d",
   "metadata": {},
   "source": [
    "### Random Forest(tuned)"
   ]
  },
  {
   "cell_type": "code",
   "execution_count": 34,
   "id": "c1ddb69c",
   "metadata": {},
   "outputs": [
    {
     "name": "stdout",
     "output_type": "stream",
     "text": [
      "Fitting 5 folds for each of 2160 candidates, totalling 10800 fits\n"
     ]
    }
   ],
   "source": [
    "rft_clf = RandomForestClassifier(random_state=64)\n",
    "\n",
    "cv = StratifiedKFold(n_splits=5, shuffle=True, random_state=44)\n",
    "param_grid = {'n_estimators': range(100,200,5),\n",
    "               'max_features': ['auto', 'sqrt'],\n",
    "               'max_depth':[10,15,20],\n",
    "               'min_samples_split': [2, 5, 10],\n",
    "               'min_samples_leaf': [1,2,4],\n",
    "               'bootstrap':[True, False]}\n",
    "rft_grid = GridSearchCV(rft_clf, param_grid= param_grid,\n",
    "                    cv = cv,\n",
    "                    n_jobs = -1,\n",
    "                   verbose = 2)\n",
    "rft_grid.fit(X_train, y_train)\n",
    "rft_predict = rft_grid.predict(X_test)\n",
    "rft_pred_proba =rft_grid.predict_proba(X_test)"
   ]
  },
  {
   "cell_type": "code",
   "execution_count": 35,
   "id": "1710d000",
   "metadata": {},
   "outputs": [
    {
     "data": {
      "text/plain": [
       "{'bootstrap': False,\n",
       " 'max_depth': 20,\n",
       " 'max_features': 'auto',\n",
       " 'min_samples_leaf': 1,\n",
       " 'min_samples_split': 5,\n",
       " 'n_estimators': 195}"
      ]
     },
     "execution_count": 35,
     "metadata": {},
     "output_type": "execute_result"
    }
   ],
   "source": [
    "rft_grid.best_params_"
   ]
  },
  {
   "cell_type": "code",
   "execution_count": 95,
   "id": "c3520d01",
   "metadata": {},
   "outputs": [
    {
     "name": "stdout",
     "output_type": "stream",
     "text": [
      "              precision    recall  f1-score   support\n",
      "\n",
      "           0       1.00      0.03      0.06       247\n",
      "           1       0.68      0.95      0.79       853\n",
      "           2       0.75      0.87      0.81       674\n",
      "           3       0.89      0.68      0.77       275\n",
      "           4       0.85      0.48      0.62       318\n",
      "\n",
      "    accuracy                           0.74      2367\n",
      "   macro avg       0.83      0.60      0.61      2367\n",
      "weighted avg       0.78      0.74      0.69      2367\n",
      "\n",
      "Accuracy Score = 0.736\n",
      "roc_auc_score: 0.937166\n"
     ]
    },
    {
     "data": {
      "image/png": "[encoded data removed]",
      "text/plain": [
       "<Figure size 432x288 with 2 Axes>"
      ]
     },
     "metadata": {
      "needs_background": "light"
     },
     "output_type": "display_data"
    }
   ],
   "source": [
    "print(classification_report(y_test,rft_predict, labels=np.unique(rft_predict)))\n",
    "\n",
    "cnf_matrix = metrics.confusion_matrix(y_test, rft_predict)\n",
    "\n",
    "class_names=[0,1,2,3,4] # name  of classes\n",
    "fig, ax = plt.subplots()\n",
    "tick_marks = np.arange(len(class_names))\n",
    "plt.xticks(tick_marks, class_names)\n",
    "plt.yticks(tick_marks, class_names)\n",
    "# create heatmap\n",
    "sns.heatmap(pd.DataFrame(cnf_matrix), annot=True, cmap=\"YlGnBu\" ,fmt='g')\n",
    "ax.xaxis.set_label_position(\"top\")\n",
    "plt.tight_layout()\n",
    "plt.title('Confusion matrix', y=1.1)\n",
    "plt.ylabel('Actual label')\n",
    "plt.xlabel('Predicted label')\n",
    "\n",
    "print('Accuracy Score = {:.3f}'.format(metrics.accuracy_score(y_test, rft_predict, sample_weight = None)))\n",
    "print('roc_auc_score: {:3f}'.format(roc_auc_score(y_test, rft_pred_proba, multi_class = 'ovr')))"
   ]
  },
  {
   "cell_type": "markdown",
   "id": "25cdd665",
   "metadata": {},
   "source": [
    "#### Append Metrics Random Forest(tuned)"
   ]
  },
  {
   "cell_type": "code",
   "execution_count": 115,
   "id": "b506ea17",
   "metadata": {},
   "outputs": [],
   "source": [
    "#model_metrics['model']\n",
    "model_metrics['model'].append('Random Forest(tuned)')\n",
    "#model_metrics['accuracy']\n",
    "model_metrics['accuracy'].append(format(metrics.accuracy_score(y_test, rft_predict, sample_weight = None),'.2f'))\n",
    "#model_metrics['roc_auc_score']\n",
    "model_metrics['roc_auc_score'].append(format(roc_auc_score(y_test, rft_pred_proba, multi_class = 'ovr'),'.2f'))\n",
    "#model_metrics['F1-score(1)']\n",
    "model_metrics['F1-score(1)'].append(format(metrics.f1_score(y_test, rft_predict, average = 'weighted', labels = [1]),'.2f'))\n",
    "#model_metrics['F1-score(2)']\n",
    "model_metrics['F1-score(2)'].append(format(metrics.f1_score(y_test, rft_predict, average = 'weighted', labels = [2]),'.2f'))\n",
    "#model_metrics['F1-score(3)']\n",
    "model_metrics['F1-score(3)'].append(format(metrics.f1_score(y_test, rft_predict, average = 'weighted', labels = [3]),'.2f'))"
   ]
  },
  {
   "cell_type": "markdown",
   "id": "21f43233",
   "metadata": {},
   "source": [
    "## B. Logistic Regression"
   ]
  },
  {
   "cell_type": "markdown",
   "id": "04ad2172",
   "metadata": {},
   "source": [
    "### Logistic Regression(base)"
   ]
  },
  {
   "cell_type": "code",
   "execution_count": 100,
   "id": "919fc999",
   "metadata": {},
   "outputs": [],
   "source": [
    "lr_clf = LogisticRegression(solver='lbfgs',max_iter= 200, multi_class='multinomial', random_state = 44)\n",
    "lr_clf.fit(X_train, y_train)\n",
    "\n",
    "lr_predict = lr_clf.predict(X_test)\n",
    "lr_pred_proba =lr_clf.predict_proba(X_test)"
   ]
  },
  {
   "cell_type": "code",
   "execution_count": 109,
   "id": "234f0b58",
   "metadata": {},
   "outputs": [
    {
     "name": "stdout",
     "output_type": "stream",
     "text": [
      "              precision    recall  f1-score   support\n",
      "\n",
      "           0       0.74      0.38      0.51       247\n",
      "           1       0.84      0.91      0.88       853\n",
      "           2       0.82      0.91      0.86       674\n",
      "           3       0.86      0.86      0.86       275\n",
      "           4       0.74      0.70      0.72       318\n",
      "\n",
      "    accuracy                           0.82      2367\n",
      "   macro avg       0.80      0.75      0.77      2367\n",
      "weighted avg       0.81      0.82      0.81      2367\n",
      "\n",
      "roc_auc_score: 0.950938\n"
     ]
    },
    {
     "data": {
      "image/png": "[encoded data removed]",
      "text/plain": [
       "<Figure size 432x288 with 2 Axes>"
      ]
     },
     "metadata": {
      "needs_background": "light"
     },
     "output_type": "display_data"
    }
   ],
   "source": [
    "cnf_matrix = metrics.confusion_matrix(y_test, lr_predict)\n",
    "\n",
    "class_names=[0,1,2,3,4] # name  of classes\n",
    "fig, ax = plt.subplots()\n",
    "tick_marks = np.arange(len(class_names))\n",
    "plt.xticks(tick_marks, class_names)\n",
    "plt.yticks(tick_marks, class_names)\n",
    "# create heatmap\n",
    "sns.heatmap(pd.DataFrame(cnf_matrix), annot=True, cmap=\"YlGnBu\" ,fmt='g')\n",
    "ax.xaxis.set_label_position(\"top\")\n",
    "plt.tight_layout()\n",
    "plt.title('Confusion matrix', y=1.1)\n",
    "plt.ylabel('Actual label')\n",
    "plt.xlabel('Predicted label')\n",
    "\n",
    "print(classification_report(y_test,lr_predict, labels=np.unique(lr_predict)))\n",
    "print('roc_auc_score: {:3f}'.format(roc_auc_score(y_test, lr_pred_proba, multi_class = 'ovr')))"
   ]
  },
  {
   "cell_type": "markdown",
   "id": "cabe257b",
   "metadata": {},
   "source": [
    "#### Append Metrics Logistic Regression(base)"
   ]
  },
  {
   "cell_type": "code",
   "execution_count": 116,
   "id": "361a4409",
   "metadata": {},
   "outputs": [],
   "source": [
    "#model_metrics['model']\n",
    "model_metrics['model'].append('Logistic Regression(base)')\n",
    "#model_metrics['accuracy']\n",
    "model_metrics['accuracy'].append(format(metrics.accuracy_score(y_test, lr_predict, sample_weight = None),'.2f'))\n",
    "#model_metrics['roc_auc_score']\n",
    "model_metrics['roc_auc_score'].append(format(roc_auc_score(y_test, lr_pred_proba, multi_class = 'ovr'),'.2f'))\n",
    "#model_metrics['F1-score(1)']\n",
    "model_metrics['F1-score(1)'].append(format(metrics.f1_score(y_test, lr_predict, average = 'weighted', labels = [1]),'.2f'))\n",
    "#model_metrics['F1-score(2)']\n",
    "model_metrics['F1-score(2)'].append(format(metrics.f1_score(y_test, lr_predict, average = 'weighted', labels = [2]),'.2f'))\n",
    "#model_metrics['F1-score(3)']\n",
    "model_metrics['F1-score(3)'].append(format(metrics.f1_score(y_test, lr_predict, average = 'weighted', labels = [3]),'.2f'))"
   ]
  },
  {
   "cell_type": "markdown",
   "id": "27475b1e",
   "metadata": {},
   "source": [
    "### Logistic Regression(tuned)"
   ]
  },
  {
   "cell_type": "code",
   "execution_count": 104,
   "id": "6d0f9055",
   "metadata": {
    "scrolled": true
   },
   "outputs": [
    {
     "name": "stdout",
     "output_type": "stream",
     "text": [
      "Fitting 5 folds for each of 20 candidates, totalling 100 fits\n"
     ]
    },
    {
     "data": {
      "text/plain": [
       "{'C': 4.281332398719396,\n",
       " 'max_iter': 500,\n",
       " 'multi_class': 'multinomial',\n",
       " 'penalty': 'l2',\n",
       " 'random_state': 44,\n",
       " 'solver': 'lbfgs'}"
      ]
     },
     "execution_count": 104,
     "metadata": {},
     "output_type": "execute_result"
    }
   ],
   "source": [
    "#time_start = time.time()\n",
    "lrt_clf = LogisticRegression()\n",
    "cv = StratifiedKFold(n_splits=5, shuffle=True, random_state=44)\n",
    "param_grid = {\n",
    "    'penalty': ['l2'],\n",
    "    'C': np.logspace(-4,4,20),\n",
    "    'solver': ['lbfgs'],\n",
    "    'multi_class':['multinomial'],\n",
    "    'max_iter':[500],\n",
    "    'random_state': [44]\n",
    "    \n",
    "}\n",
    "grid = GridSearchCV(lrt_clf, param_grid = param_grid, cv =cv, n_jobs = -1, verbose = 2)\n",
    "grid.fit(X_train, y_train)\n",
    "grid.best_params_\n",
    "#print('Execution time: {}'.format(time.time() - time_start))"
   ]
  },
  {
   "cell_type": "code",
   "execution_count": 117,
   "id": "43fad584",
   "metadata": {},
   "outputs": [
    {
     "name": "stdout",
     "output_type": "stream",
     "text": [
      "              precision    recall  f1-score   support\n",
      "\n",
      "           0       0.66      0.44      0.53       247\n",
      "           1       0.86      0.90      0.88       853\n",
      "           2       0.83      0.90      0.86       674\n",
      "           3       0.85      0.85      0.85       275\n",
      "           4       0.76      0.72      0.74       318\n",
      "\n",
      "    accuracy                           0.82      2367\n",
      "   macro avg       0.79      0.76      0.77      2367\n",
      "weighted avg       0.82      0.82      0.82      2367\n",
      "\n",
      "roc_auc_score: 0.952485\n"
     ]
    },
    {
     "data": {
      "image/png": "[encoded data removed]",
      "text/plain": [
       "<Figure size 432x288 with 2 Axes>"
      ]
     },
     "metadata": {
      "needs_background": "light"
     },
     "output_type": "display_data"
    }
   ],
   "source": [
    "lrt_predict = grid.predict(X_test)\n",
    "lrt_pred_proba =grid.predict_proba(X_test)\n",
    "\n",
    "cnf_matrix = metrics.confusion_matrix(y_test, lrt_predict)\n",
    "\n",
    "class_names=[0,1,2,3,4] # name  of classes\n",
    "fig, ax = plt.subplots()\n",
    "tick_marks = np.arange(len(class_names))\n",
    "plt.xticks(tick_marks, class_names)\n",
    "plt.yticks(tick_marks, class_names)\n",
    "# create heatmap\n",
    "sns.heatmap(pd.DataFrame(cnf_matrix), annot=True, cmap=\"YlGnBu\" ,fmt='g')\n",
    "ax.xaxis.set_label_position(\"top\")\n",
    "plt.tight_layout()\n",
    "plt.title('Confusion matrix Logistic(tuned)', y=1.1)\n",
    "plt.ylabel('Actual label')\n",
    "plt.xlabel('Predicted label')\n",
    "\n",
    "print(classification_report(y_test,lrt_predict, labels=np.unique(lrt_predict)))\n",
    "print('roc_auc_score: {:3f}'.format(roc_auc_score(y_test, lrt_pred_proba, multi_class = 'ovr')))    "
   ]
  },
  {
   "cell_type": "markdown",
   "id": "009eb822",
   "metadata": {},
   "source": [
    "#### Append Metrics Logistic Regression(tuned)"
   ]
  },
  {
   "cell_type": "code",
   "execution_count": 118,
   "id": "1fca73f0",
   "metadata": {},
   "outputs": [],
   "source": [
    "#model_metrics['model']\n",
    "model_metrics['model'].append('Logistic Regression(tuned)')\n",
    "#model_metrics['accuracy']\n",
    "model_metrics['accuracy'].append(format(metrics.accuracy_score(y_test, lrt_predict, sample_weight = None),'.2f'))\n",
    "#model_metrics['roc_auc_score']\n",
    "model_metrics['roc_auc_score'].append(format(roc_auc_score(y_test, lrt_pred_proba, multi_class = 'ovr'),'.2f'))\n",
    "#model_metrics['F1-score(1)']\n",
    "model_metrics['F1-score(1)'].append(format(metrics.f1_score(y_test, lrt_predict, average = 'weighted', labels = [1]),'.2f'))\n",
    "#model_metrics['F1-score(2)']\n",
    "model_metrics['F1-score(2)'].append(format(metrics.f1_score(y_test, lrt_predict, average = 'weighted', labels = [2]),'.2f'))\n",
    "#model_metrics['F1-score(3)']\n",
    "model_metrics['F1-score(3)'].append(format(metrics.f1_score(y_test, lrt_predict, average = 'weighted', labels = [3]),'.2f'))"
   ]
  },
  {
   "cell_type": "markdown",
   "id": "8f6f40c2",
   "metadata": {},
   "source": [
    "## C. Multinomial Naive bayes"
   ]
  },
  {
   "cell_type": "markdown",
   "id": "63704a16",
   "metadata": {},
   "source": [
    "### Naive bayes(base)"
   ]
  },
  {
   "cell_type": "code",
   "execution_count": 108,
   "id": "e6f5f118",
   "metadata": {},
   "outputs": [],
   "source": [
    "## Training the model wiht naive bayes text classification\n",
    "nb = MultinomialNB()\n",
    "nb.fit(X_train,y_train)\n",
    "\n",
    "# predictions\n",
    "nb_predict = nb.predict(X_test)\n",
    "nb_pred_proba = nb.predict_proba(X_test)\n"
   ]
  },
  {
   "cell_type": "code",
   "execution_count": 119,
   "id": "3c45d816",
   "metadata": {},
   "outputs": [
    {
     "name": "stdout",
     "output_type": "stream",
     "text": [
      "              precision    recall  f1-score   support\n",
      "\n",
      "           0       0.88      0.03      0.05       247\n",
      "           1       0.66      0.95      0.78       853\n",
      "           2       0.75      0.89      0.81       674\n",
      "           3       0.89      0.48      0.62       275\n",
      "           4       0.80      0.44      0.57       318\n",
      "\n",
      "    accuracy                           0.71      2367\n",
      "   macro avg       0.79      0.56      0.57      2367\n",
      "weighted avg       0.75      0.71      0.67      2367\n",
      "\n",
      "roc_auc_score: 0.926804\n",
      "Accuracy Score = 0.713\n"
     ]
    },
    {
     "data": {
      "image/png": "[encoded data removed]",
      "text/plain": [
       "<Figure size 432x288 with 2 Axes>"
      ]
     },
     "metadata": {
      "needs_background": "light"
     },
     "output_type": "display_data"
    }
   ],
   "source": [
    "cnf_matrix = metrics.confusion_matrix(y_test, nb_predict)\n",
    "\n",
    "class_names=[0,1,2,3,4] # name  of classes\n",
    "fig, ax = plt.subplots()\n",
    "tick_marks = np.arange(len(class_names))\n",
    "plt.xticks(tick_marks, class_names)\n",
    "plt.yticks(tick_marks, class_names)\n",
    "# create heatmap\n",
    "sns.heatmap(pd.DataFrame(cnf_matrix), annot=True, cmap=\"YlGnBu\" ,fmt='g')\n",
    "ax.xaxis.set_label_position(\"top\")\n",
    "plt.tight_layout()\n",
    "plt.title('Confusion matrix Naive bayes', y=1.1)\n",
    "plt.ylabel('Actual label')\n",
    "plt.xlabel('Predicted label')\n",
    "\n",
    "print(classification_report(y_test,nb_predict, labels=np.unique(nb_predict)))\n",
    "print('roc_auc_score: {:3f}'.format(roc_auc_score(y_test, nb_pred_proba, multi_class = 'ovr')))\n",
    "print('Accuracy Score = {:.3f}'.format(metrics.accuracy_score(y_test, nb_predict, sample_weight = None)))\n"
   ]
  },
  {
   "cell_type": "markdown",
   "id": "d6f5ec07",
   "metadata": {},
   "source": [
    "#### Append Metrics Naive bayes(base)"
   ]
  },
  {
   "cell_type": "code",
   "execution_count": 120,
   "id": "276f226f",
   "metadata": {},
   "outputs": [],
   "source": [
    "#model_metrics['model']\n",
    "model_metrics['model'].append('Naive bayes(base)')\n",
    "#model_metrics['accuracy']\n",
    "model_metrics['accuracy'].append(format(metrics.accuracy_score(y_test, nb_predict, sample_weight = None),'.2f'))\n",
    "#model_metrics['roc_auc_score']\n",
    "model_metrics['roc_auc_score'].append(format(roc_auc_score(y_test, nb_pred_proba, multi_class = 'ovr'),'.2f'))\n",
    "#model_metrics['F1-score(1)']\n",
    "model_metrics['F1-score(1)'].append(format(metrics.f1_score(y_test, nb_predict, average = 'weighted', labels = [1]),'.2f'))\n",
    "#model_metrics['F1-score(2)']\n",
    "model_metrics['F1-score(2)'].append(format(metrics.f1_score(y_test, nb_predict, average = 'weighted', labels = [2]),'.2f'))\n",
    "#model_metrics['F1-score(3)']\n",
    "model_metrics['F1-score(3)'].append(format(metrics.f1_score(y_test, nb_predict, average = 'weighted', labels = [3]),'.2f'))"
   ]
  },
  {
   "cell_type": "markdown",
   "id": "3f49b285",
   "metadata": {},
   "source": [
    "### Naive bayes(tuned)"
   ]
  },
  {
   "cell_type": "code",
   "execution_count": 122,
   "id": "79a78c09",
   "metadata": {},
   "outputs": [
    {
     "name": "stdout",
     "output_type": "stream",
     "text": [
      "Fitting 5 folds for each of 1 candidates, totalling 5 fits\n"
     ]
    },
    {
     "data": {
      "text/plain": [
       "{'alpha': 1, 'class_prior': None, 'fit_prior': True}"
      ]
     },
     "execution_count": 122,
     "metadata": {},
     "output_type": "execute_result"
    }
   ],
   "source": [
    "nbt = MultinomialNB()\n",
    "cv = StratifiedKFold(n_splits=5, shuffle=True, random_state=44)\n",
    "\n",
    "param_grid = {'alpha':[1],\n",
    "              'class_prior':[None],\n",
    "              'fit_prior':[True]               \n",
    "}\n",
    "grid = GridSearchCV(nbt, param_grid = param_grid, cv =cv, n_jobs = -1, verbose = 2)\n",
    "grid.fit(X_train, y_train)\n",
    "grid.best_params_"
   ]
  },
  {
   "cell_type": "code",
   "execution_count": 123,
   "id": "648912ac",
   "metadata": {},
   "outputs": [
    {
     "name": "stdout",
     "output_type": "stream",
     "text": [
      "              precision    recall  f1-score   support\n",
      "\n",
      "           0       0.88      0.03      0.05       247\n",
      "           1       0.66      0.95      0.78       853\n",
      "           2       0.75      0.89      0.81       674\n",
      "           3       0.89      0.48      0.62       275\n",
      "           4       0.80      0.44      0.57       318\n",
      "\n",
      "    accuracy                           0.71      2367\n",
      "   macro avg       0.79      0.56      0.57      2367\n",
      "weighted avg       0.75      0.71      0.67      2367\n",
      "\n",
      "roc_auc_score: 0.926804\n",
      "Accuracy Score = 0.713\n"
     ]
    },
    {
     "data": {
      "image/png": "[encoded data removed]",
      "text/plain": [
       "<Figure size 432x288 with 2 Axes>"
      ]
     },
     "metadata": {
      "needs_background": "light"
     },
     "output_type": "display_data"
    }
   ],
   "source": [
    "# predictions\n",
    "nbt_predict = grid.predict(X_test)\n",
    "nbt_pred_proba = grid.predict_proba(X_test)\n",
    "\n",
    "cnf_matrix = metrics.confusion_matrix(y_test, nbt_predict)\n",
    "\n",
    "class_names=[0,1,2,3,4] # name  of classes\n",
    "fig, ax = plt.subplots()\n",
    "tick_marks = np.arange(len(class_names))\n",
    "plt.xticks(tick_marks, class_names)\n",
    "plt.yticks(tick_marks, class_names)\n",
    "# create heatmap\n",
    "sns.heatmap(pd.DataFrame(cnf_matrix), annot=True, cmap=\"YlGnBu\" ,fmt='g')\n",
    "ax.xaxis.set_label_position(\"top\")\n",
    "plt.tight_layout()\n",
    "plt.title('Confusion matrix Naive bayes', y=1.1)\n",
    "plt.ylabel('Actual label')\n",
    "plt.xlabel('Predicted label')\n",
    "\n",
    "print(classification_report(y_test,nbt_predict, labels=np.unique(nbt_predict)))\n",
    "print('roc_auc_score: {:3f}'.format(roc_auc_score(y_test, nbt_pred_proba, multi_class = 'ovr')))\n",
    "print('Accuracy Score = {:.3f}'.format(metrics.accuracy_score(y_test, nbt_predict, sample_weight = None)))"
   ]
  },
  {
   "cell_type": "markdown",
   "id": "fc65860b",
   "metadata": {},
   "source": [
    "#### Append Metrics Naive bayes(tuned)"
   ]
  },
  {
   "cell_type": "code",
   "execution_count": 124,
   "id": "5d7f6e80",
   "metadata": {},
   "outputs": [],
   "source": [
    "#model_metrics['model']\n",
    "model_metrics['model'].append('Naive bayes(tuned)')\n",
    "#model_metrics['accuracy']\n",
    "model_metrics['accuracy'].append(format(metrics.accuracy_score(y_test, nbt_predict, sample_weight = None),'.2f'))\n",
    "#model_metrics['roc_auc_score']\n",
    "model_metrics['roc_auc_score'].append(format(roc_auc_score(y_test, nbt_pred_proba, multi_class = 'ovr'),'.2f'))\n",
    "#model_metrics['F1-score(1)']\n",
    "model_metrics['F1-score(1)'].append(format(metrics.f1_score(y_test, nbt_predict, average = 'weighted', labels = [1]),'.2f'))\n",
    "#model_metrics['F1-score(2)']\n",
    "model_metrics['F1-score(2)'].append(format(metrics.f1_score(y_test, nbt_predict, average = 'weighted', labels = [2]),'.2f'))\n",
    "#model_metrics['F1-score(3)']\n",
    "model_metrics['F1-score(3)'].append(format(metrics.f1_score(y_test, nbt_predict, average = 'weighted', labels = [3]),'.2f'))"
   ]
  },
  {
   "cell_type": "markdown",
   "id": "451c005f",
   "metadata": {},
   "source": [
    "## D. Linear SVC"
   ]
  },
  {
   "cell_type": "markdown",
   "id": "11a948ad",
   "metadata": {},
   "source": [
    "### Linear SVC(base)"
   ]
  },
  {
   "cell_type": "code",
   "execution_count": 132,
   "id": "fef20136",
   "metadata": {},
   "outputs": [
    {
     "name": "stdout",
     "output_type": "stream",
     "text": [
      "              precision    recall  f1-score   support\n",
      "\n",
      "           0       0.68      0.46      0.55       247\n",
      "           1       0.86      0.91      0.88       853\n",
      "           2       0.83      0.89      0.86       674\n",
      "           3       0.86      0.86      0.86       275\n",
      "           4       0.78      0.75      0.76       318\n",
      "\n",
      "    accuracy                           0.83      2367\n",
      "   macro avg       0.80      0.77      0.78      2367\n",
      "weighted avg       0.82      0.83      0.82      2367\n",
      "\n"
     ]
    },
    {
     "data": {
      "image/png": "[encoded data removed]",
      "text/plain": [
       "<Figure size 432x288 with 2 Axes>"
      ]
     },
     "metadata": {
      "needs_background": "light"
     },
     "output_type": "display_data"
    }
   ],
   "source": [
    "svc = LinearSVC()\n",
    "svc.fit(X_train, y_train)\n",
    "svc_predict = svc.predict(X_test) \n",
    "\n",
    "#---------------\n",
    "\n",
    "cnf_matrix = metrics.confusion_matrix(y_test,svc_predict)\n",
    "\n",
    "class_names=[0,1,2,3,4] # name  of classes\n",
    "fig, ax = plt.subplots()\n",
    "tick_marks = np.arange(len(class_names))\n",
    "plt.xticks(tick_marks, class_names)\n",
    "plt.yticks(tick_marks, class_names)\n",
    "# create heatmap\n",
    "sns.heatmap(pd.DataFrame(cnf_matrix), annot=True, cmap=\"YlGnBu\" ,fmt='g')\n",
    "ax.xaxis.set_label_position(\"top\")\n",
    "plt.tight_layout()\n",
    "plt.title('Confusion matrix', y=1.1)\n",
    "plt.ylabel('Actual label')\n",
    "plt.xlabel('Predicted label')\n",
    "\n",
    "print(classification_report(y_test,svc_predict, labels=np.unique(svc_predict)))\n"
   ]
  },
  {
   "cell_type": "code",
   "execution_count": 127,
   "id": "1b0abe09",
   "metadata": {},
   "outputs": [],
   "source": [
    "from sklearn.calibration import CalibratedClassifierCV"
   ]
  },
  {
   "cell_type": "code",
   "execution_count": 129,
   "id": "fe9f9ed7",
   "metadata": {},
   "outputs": [
    {
     "name": "stdout",
     "output_type": "stream",
     "text": [
      "roc_auc_score: 0.952279\n"
     ]
    }
   ],
   "source": [
    "#LinearSVC porbabilistic output for roc_auc_score\n",
    "svm = LinearSVC()\n",
    "clf = CalibratedClassifierCV(svm)\n",
    "clf.fit(X_train,y_train)\n",
    "svc_pred_proba = clf.predict_proba(X_test)\n",
    "print('roc_auc_score: {:3f}'.format(roc_auc_score(y_test, svc_pred_proba, multi_class = 'ovr')))"
   ]
  },
  {
   "cell_type": "markdown",
   "id": "9b60ada9",
   "metadata": {},
   "source": [
    "#### Append Metrics Linear SVC(base)"
   ]
  },
  {
   "cell_type": "code",
   "execution_count": 130,
   "id": "92f8186a",
   "metadata": {},
   "outputs": [],
   "source": [
    "#model_metrics['model']\n",
    "model_metrics['model'].append('Linear SVC(base)')\n",
    "#model_metrics['accuracy']\n",
    "model_metrics['accuracy'].append(format(metrics.accuracy_score(y_test, svc_predict, sample_weight = None),'.2f'))\n",
    "#model_metrics['roc_auc_score']\n",
    "model_metrics['roc_auc_score'].append(format(roc_auc_score(y_test, svc_pred_proba, multi_class = 'ovr'),'.2f'))\n",
    "#model_metrics['F1-score(1)']\n",
    "model_metrics['F1-score(1)'].append(format(metrics.f1_score(y_test, svc_predict, average = 'weighted', labels = [1]),'.2f'))\n",
    "#model_metrics['F1-score(2)']\n",
    "model_metrics['F1-score(2)'].append(format(metrics.f1_score(y_test, svc_predict, average = 'weighted', labels = [2]),'.2f'))\n",
    "#model_metrics['F1-score(3)']\n",
    "model_metrics['F1-score(3)'].append(format(metrics.f1_score(y_test, svc_predict, average = 'weighted', labels = [3]),'.2f'))"
   ]
  },
  {
   "cell_type": "markdown",
   "id": "d7f46fdc",
   "metadata": {},
   "source": [
    "### Linear SVC(tuned)"
   ]
  },
  {
   "cell_type": "code",
   "execution_count": 133,
   "id": "6bc25222",
   "metadata": {},
   "outputs": [
    {
     "name": "stdout",
     "output_type": "stream",
     "text": [
      "Fitting 5 folds for each of 60 candidates, totalling 300 fits\n"
     ]
    },
    {
     "data": {
      "text/plain": [
       "{'C': 10.0,\n",
       " 'max_iter': 700,\n",
       " 'multi_class': 'ovr',\n",
       " 'penalty': 'l2',\n",
       " 'random_state': 44}"
      ]
     },
     "execution_count": 133,
     "metadata": {},
     "output_type": "execute_result"
    }
   ],
   "source": [
    "svct = LinearSVC()\n",
    "cv = StratifiedKFold(n_splits=5, shuffle=True, random_state=44)\n",
    "param_grid = {\n",
    "    'penalty': ['l2'],\n",
    "    'C': np.logspace(1,4,20),\n",
    "    'multi_class':['ovr'],\n",
    "    'max_iter':[700,800,1000],\n",
    "    'random_state': [44]\n",
    "    \n",
    "}\n",
    "grid = GridSearchCV(svct, param_grid = param_grid,\n",
    "                    cv=cv,\n",
    "                    n_jobs = -1,\n",
    "                    verbose = 2\n",
    "                   )\n",
    "grid.fit(X_train, y_train)\n",
    "grid.best_params_"
   ]
  },
  {
   "cell_type": "code",
   "execution_count": 134,
   "id": "e6fa32c4",
   "metadata": {},
   "outputs": [
    {
     "name": "stdout",
     "output_type": "stream",
     "text": [
      "              precision    recall  f1-score   support\n",
      "\n",
      "           0       0.62      0.49      0.55       247\n",
      "           1       0.86      0.90      0.88       853\n",
      "           2       0.83      0.86      0.85       674\n",
      "           3       0.86      0.86      0.86       275\n",
      "           4       0.77      0.74      0.76       318\n",
      "\n",
      "    accuracy                           0.82      2367\n",
      "   macro avg       0.79      0.77      0.78      2367\n",
      "weighted avg       0.81      0.82      0.82      2367\n",
      "\n"
     ]
    },
    {
     "data": {
      "image/png": "[encoded data removed]",
      "text/plain": [
       "<Figure size 432x288 with 2 Axes>"
      ]
     },
     "metadata": {
      "needs_background": "light"
     },
     "output_type": "display_data"
    }
   ],
   "source": [
    "svct_predict = grid.predict(X_test)\n",
    "\n",
    "cnf_matrix = metrics.confusion_matrix(y_test, svct_predict)\n",
    "\n",
    "class_names=[0,1,2,3,4] # name  of classes\n",
    "fig, ax = plt.subplots()\n",
    "tick_marks = np.arange(len(class_names))\n",
    "plt.xticks(tick_marks, class_names)\n",
    "plt.yticks(tick_marks, class_names)\n",
    "# create heatmap\n",
    "sns.heatmap(pd.DataFrame(cnf_matrix), annot=True, cmap=\"YlGnBu\" ,fmt='g')\n",
    "ax.xaxis.set_label_position(\"top\")\n",
    "plt.tight_layout()\n",
    "plt.title('Confusion matrix', y=1.1)\n",
    "plt.ylabel('Actual label')\n",
    "plt.xlabel('Predicted label')\n",
    "\n",
    "print(classification_report(y_test,svct_predict, labels=np.unique(svct_predict)))"
   ]
  },
  {
   "cell_type": "code",
   "execution_count": 135,
   "id": "3114262a",
   "metadata": {},
   "outputs": [
    {
     "name": "stdout",
     "output_type": "stream",
     "text": [
      "roc_auc_score: 0.948302\n"
     ]
    }
   ],
   "source": [
    "#LinearSVC porbabilistic output for roc_auc_score using the best parameter after tuning\n",
    "svm = LinearSVC(C= 10.0,\n",
    " max_iter= 700,\n",
    " multi_class= 'ovr',\n",
    " penalty= 'l2',\n",
    " random_state= 44)\n",
    "clf = CalibratedClassifierCV(svm)\n",
    "clf.fit(X_train,y_train)\n",
    "svct_pred_proba = clf.predict_proba(X_test)\n",
    "print('roc_auc_score: {:3f}'.format(roc_auc_score(y_test, svct_pred_proba, multi_class = 'ovr')))"
   ]
  },
  {
   "cell_type": "markdown",
   "id": "aa6def28",
   "metadata": {},
   "source": [
    "#### Append Metrics Linear SVC(tuned)"
   ]
  },
  {
   "cell_type": "code",
   "execution_count": 136,
   "id": "7527d32a",
   "metadata": {},
   "outputs": [],
   "source": [
    "#model_metrics['model']\n",
    "model_metrics['model'].append('Linear SVC(tuned)')\n",
    "#model_metrics['accuracy']\n",
    "model_metrics['accuracy'].append(format(metrics.accuracy_score(y_test, svct_predict, sample_weight = None),'.2f'))\n",
    "#model_metrics['roc_auc_score']\n",
    "model_metrics['roc_auc_score'].append(format(roc_auc_score(y_test, svct_pred_proba, multi_class = 'ovr'),'.2f'))\n",
    "#model_metrics['F1-score(1)']\n",
    "model_metrics['F1-score(1)'].append(format(metrics.f1_score(y_test, svct_predict, average = 'weighted', labels = [1]),'.2f'))\n",
    "#model_metrics['F1-score(2)']\n",
    "model_metrics['F1-score(2)'].append(format(metrics.f1_score(y_test, svct_predict, average = 'weighted', labels = [2]),'.2f'))\n",
    "#model_metrics['F1-score(3)']\n",
    "model_metrics['F1-score(3)'].append(format(metrics.f1_score(y_test, svct_predict, average = 'weighted', labels = [3]),'.2f'))"
   ]
  },
  {
   "cell_type": "markdown",
   "id": "ffda4327",
   "metadata": {},
   "source": [
    "## E. XGBoost"
   ]
  },
  {
   "cell_type": "markdown",
   "id": "b301dfa1",
   "metadata": {},
   "source": [
    "### XGB(base)"
   ]
  },
  {
   "cell_type": "code",
   "execution_count": 138,
   "id": "d62ef93c",
   "metadata": {},
   "outputs": [
    {
     "name": "stdout",
     "output_type": "stream",
     "text": [
      "              precision    recall  f1-score   support\n",
      "\n",
      "           0       0.66      0.41      0.51       247\n",
      "           1       0.84      0.87      0.85       853\n",
      "           2       0.80      0.87      0.83       674\n",
      "           3       0.84      0.85      0.84       275\n",
      "           4       0.72      0.71      0.72       318\n",
      "\n",
      "    accuracy                           0.80      2367\n",
      "   macro avg       0.77      0.74      0.75      2367\n",
      "weighted avg       0.79      0.80      0.79      2367\n",
      "\n",
      "roc_auc_score: 0.942358\n"
     ]
    },
    {
     "data": {
      "image/png": "[encoded data removed]",
      "text/plain": [
       "<Figure size 432x288 with 2 Axes>"
      ]
     },
     "metadata": {
      "needs_background": "light"
     },
     "output_type": "display_data"
    }
   ],
   "source": [
    "\n",
    "xgb = XGBClassifier(num_class = 6,\n",
    "                   objective = 'multi:softprob',\n",
    "                   eval_metric ='mlogloss',\n",
    "                   use_label_encoder=False,\n",
    "                   seed =44)\n",
    "\n",
    "xgb.fit(X_train, y_train)\n",
    "xgb_predict = xgb.predict(X_test) \n",
    "xgb_pred_proba = xgb.predict_proba(X_test)\n",
    "#---------------\n",
    "\n",
    "cnf_matrix = metrics.confusion_matrix(y_test, xgb_predict)\n",
    "\n",
    "class_names=[0,1,2,3,4] # name  of classes\n",
    "fig, ax = plt.subplots()\n",
    "tick_marks = np.arange(len(class_names))\n",
    "plt.xticks(tick_marks, class_names)\n",
    "plt.yticks(tick_marks, class_names)\n",
    "# create heatmap\n",
    "sns.heatmap(pd.DataFrame(cnf_matrix), annot=True, cmap=\"YlGnBu\" ,fmt='g')\n",
    "ax.xaxis.set_label_position(\"top\")\n",
    "plt.tight_layout()\n",
    "plt.title('Confusion matrix', y=1.1)\n",
    "plt.ylabel('Actual label')\n",
    "plt.xlabel('Predicted label')\n",
    "\n",
    "print(classification_report(y_test,xgb_predict, labels=np.unique(xgb_predict)))\n",
    "print('roc_auc_score: {:3f}'.format(roc_auc_score(y_test, xgb_pred_proba, multi_class = 'ovr')))"
   ]
  },
  {
   "cell_type": "markdown",
   "id": "f98dd5ee",
   "metadata": {},
   "source": [
    "#### Append Metrics XGBoost(base)"
   ]
  },
  {
   "cell_type": "code",
   "execution_count": 139,
   "id": "e3054d7f",
   "metadata": {},
   "outputs": [],
   "source": [
    "#model_metrics['model']\n",
    "model_metrics['model'].append('XGBoost(base)')\n",
    "#model_metrics['accuracy']\n",
    "model_metrics['accuracy'].append(format(metrics.accuracy_score(y_test, xgb_predict, sample_weight = None),'.2f'))\n",
    "#model_metrics['roc_auc_score']\n",
    "model_metrics['roc_auc_score'].append(format(roc_auc_score(y_test, xgb_pred_proba, multi_class = 'ovr'),'.2f'))\n",
    "#model_metrics['F1-score(1)']\n",
    "model_metrics['F1-score(1)'].append(format(metrics.f1_score(y_test, xgb_predict, average = 'weighted', labels = [1]),'.2f'))\n",
    "#model_metrics['F1-score(2)']\n",
    "model_metrics['F1-score(2)'].append(format(metrics.f1_score(y_test, xgb_predict, average = 'weighted', labels = [2]),'.2f'))\n",
    "#model_metrics['F1-score(3)']\n",
    "model_metrics['F1-score(3)'].append(format(metrics.f1_score(y_test, xgb_predict, average = 'weighted', labels = [3]),'.2f'))"
   ]
  },
  {
   "cell_type": "markdown",
   "id": "77811168",
   "metadata": {},
   "source": [
    "### XGB -tuned"
   ]
  },
  {
   "cell_type": "code",
   "execution_count": 141,
   "id": "778e420b",
   "metadata": {},
   "outputs": [
    {
     "name": "stdout",
     "output_type": "stream",
     "text": [
      "Fitting 5 folds for each of 36 candidates, totalling 180 fits\n"
     ]
    },
    {
     "data": {
      "text/plain": [
       "{'gamma': 0.05, 'learning_rate': 0.05, 'max_depth': 20, 'n_estimators': 15}"
      ]
     },
     "execution_count": 141,
     "metadata": {},
     "output_type": "execute_result"
    }
   ],
   "source": [
    "xgbt = XGBClassifier(num_class = 6,\n",
    "                   objective = 'multi:softprob',\n",
    "                   eval_metric ='mlogloss',\n",
    "                   use_label_encoder=False,\n",
    "                   seed =44)\n",
    "cv = StratifiedKFold(n_splits=5, shuffle=True, random_state=1) # stratified KFold considering imbalanced classes\n",
    "param_grid = {\"max_depth\": [10,15,20],\n",
    "              \"n_estimators\": range(5,20,5) , \n",
    "              \"gamma\": [0.03,0.05], \n",
    "              \"learning_rate\": [0.01,0.05]}\n",
    "grid = GridSearchCV(xgbt, param_grid= param_grid,\n",
    "                    cv = cv,\n",
    "                    n_jobs = -1,\n",
    "                    scoring = 'neg_log_loss',\n",
    "                   verbose = 2)\n",
    "grid.fit(X_train, y_train)\n",
    "grid.best_params_"
   ]
  },
  {
   "cell_type": "code",
   "execution_count": 142,
   "id": "86175be5",
   "metadata": {},
   "outputs": [],
   "source": [
    "#grid.fit(X_train, y_train)\n",
    "xgbt_predict = grid.predict(X_test)\n",
    "xgbt_pred_proba = grid.predict_proba(X_test)"
   ]
  },
  {
   "cell_type": "code",
   "execution_count": 143,
   "id": "4237288a",
   "metadata": {},
   "outputs": [
    {
     "name": "stdout",
     "output_type": "stream",
     "text": [
      "              precision    recall  f1-score   support\n",
      "\n",
      "           0       0.59      0.36      0.45       247\n",
      "           1       0.81      0.86      0.83       853\n",
      "           2       0.77      0.83      0.80       674\n",
      "           3       0.80      0.82      0.81       275\n",
      "           4       0.70      0.68      0.69       318\n",
      "\n",
      "    accuracy                           0.77      2367\n",
      "   macro avg       0.74      0.71      0.72      2367\n",
      "weighted avg       0.76      0.77      0.76      2367\n",
      "\n",
      "roc_auc_score: 0.912518\n"
     ]
    },
    {
     "data": {
      "image/png": "[encoded data removed]",
      "text/plain": [
       "<Figure size 432x288 with 2 Axes>"
      ]
     },
     "metadata": {
      "needs_background": "light"
     },
     "output_type": "display_data"
    }
   ],
   "source": [
    "cnf_matrix = metrics.confusion_matrix(y_test, xgbt_predict)\n",
    "\n",
    "class_names=[0,1,2,3,4] # name  of classes\n",
    "fig, ax = plt.subplots()\n",
    "tick_marks = np.arange(len(class_names))\n",
    "plt.xticks(tick_marks, class_names)\n",
    "plt.yticks(tick_marks, class_names)\n",
    "# create heatmap\n",
    "sns.heatmap(pd.DataFrame(cnf_matrix), annot=True, cmap=\"YlGnBu\" ,fmt='g')\n",
    "ax.xaxis.set_label_position(\"top\")\n",
    "plt.tight_layout()\n",
    "plt.title('Confusion matrix', y=1.1)\n",
    "plt.ylabel('Actual label')\n",
    "plt.xlabel('Predicted label')\n",
    "\n",
    "print(classification_report(y_test,xgbt_predict, labels=np.unique(xgbt_predict)))\n",
    "print('roc_auc_score: {:3f}'.format(roc_auc_score(y_test, xgbt_pred_proba, multi_class = 'ovr')))"
   ]
  },
  {
   "cell_type": "markdown",
   "id": "8e30988e",
   "metadata": {},
   "source": [
    "#### Append Metrics XGBoost(tuned)"
   ]
  },
  {
   "cell_type": "code",
   "execution_count": 144,
   "id": "a15bc364",
   "metadata": {},
   "outputs": [],
   "source": [
    "#model_metrics['model']\n",
    "model_metrics['model'].append('XGBoost(tuned)')\n",
    "#model_metrics['accuracy']\n",
    "model_metrics['accuracy'].append(format(metrics.accuracy_score(y_test, xgbt_predict, sample_weight = None),'.2f'))\n",
    "#model_metrics['roc_auc_score']\n",
    "model_metrics['roc_auc_score'].append(format(roc_auc_score(y_test, xgbt_pred_proba, multi_class = 'ovr'),'.2f'))\n",
    "#model_metrics['F1-score(1)']\n",
    "model_metrics['F1-score(1)'].append(format(metrics.f1_score(y_test, xgbt_predict, average = 'weighted', labels = [1]),'.2f'))\n",
    "#model_metrics['F1-score(2)']\n",
    "model_metrics['F1-score(2)'].append(format(metrics.f1_score(y_test, xgbt_predict, average = 'weighted', labels = [2]),'.2f'))\n",
    "#model_metrics['F1-score(3)']\n",
    "model_metrics['F1-score(3)'].append(format(metrics.f1_score(y_test, xgbt_predict, average = 'weighted', labels = [3]),'.2f'))"
   ]
  },
  {
   "cell_type": "markdown",
   "id": "abb30bcf",
   "metadata": {},
   "source": [
    "## Compiling metrics of the models used"
   ]
  },
  {
   "cell_type": "code",
   "execution_count": 146,
   "id": "2fcd73f8",
   "metadata": {},
   "outputs": [],
   "source": [
    "# convert the model_metrics to df\n",
    "metrics_compile = pd.DataFrame(model_metrics)"
   ]
  },
  {
   "cell_type": "code",
   "execution_count": 147,
   "id": "4f945758",
   "metadata": {},
   "outputs": [
    {
     "data": {
      "text/html": [
       "<div>\n",
       "<style scoped>\n",
       "    .dataframe tbody tr th:only-of-type {\n",
       "        vertical-align: middle;\n",
       "    }\n",
       "\n",
       "    .dataframe tbody tr th {\n",
       "        vertical-align: top;\n",
       "    }\n",
       "\n",
       "    .dataframe thead th {\n",
       "        text-align: right;\n",
       "    }\n",
       "</style>\n",
       "<table border=\"1\" class=\"dataframe\">\n",
       "  <thead>\n",
       "    <tr style=\"text-align: right;\">\n",
       "      <th></th>\n",
       "      <th>model</th>\n",
       "      <th>accuracy</th>\n",
       "      <th>roc_auc_score</th>\n",
       "      <th>F1-score(1)</th>\n",
       "      <th>F1-score(2)</th>\n",
       "      <th>F1-score(3)</th>\n",
       "    </tr>\n",
       "  </thead>\n",
       "  <tbody>\n",
       "    <tr>\n",
       "      <th>0</th>\n",
       "      <td>Random Forest(base)</td>\n",
       "      <td>0.78</td>\n",
       "      <td>0.92</td>\n",
       "      <td>0.84</td>\n",
       "      <td>0.81</td>\n",
       "      <td>0.82</td>\n",
       "    </tr>\n",
       "    <tr>\n",
       "      <th>1</th>\n",
       "      <td>Random Forest(tuned)</td>\n",
       "      <td>0.74</td>\n",
       "      <td>0.94</td>\n",
       "      <td>0.79</td>\n",
       "      <td>0.81</td>\n",
       "      <td>0.77</td>\n",
       "    </tr>\n",
       "    <tr>\n",
       "      <th>2</th>\n",
       "      <td>Logistic Regression(base)</td>\n",
       "      <td>0.82</td>\n",
       "      <td>0.95</td>\n",
       "      <td>0.88</td>\n",
       "      <td>0.86</td>\n",
       "      <td>0.86</td>\n",
       "    </tr>\n",
       "    <tr>\n",
       "      <th>3</th>\n",
       "      <td>Logistic Regression(tuned)</td>\n",
       "      <td>0.82</td>\n",
       "      <td>0.95</td>\n",
       "      <td>0.88</td>\n",
       "      <td>0.86</td>\n",
       "      <td>0.85</td>\n",
       "    </tr>\n",
       "    <tr>\n",
       "      <th>4</th>\n",
       "      <td>Naive bayes(base)</td>\n",
       "      <td>0.71</td>\n",
       "      <td>0.93</td>\n",
       "      <td>0.78</td>\n",
       "      <td>0.81</td>\n",
       "      <td>0.62</td>\n",
       "    </tr>\n",
       "    <tr>\n",
       "      <th>5</th>\n",
       "      <td>Naive bayes(tuned)</td>\n",
       "      <td>0.71</td>\n",
       "      <td>0.93</td>\n",
       "      <td>0.78</td>\n",
       "      <td>0.81</td>\n",
       "      <td>0.62</td>\n",
       "    </tr>\n",
       "    <tr>\n",
       "      <th>6</th>\n",
       "      <td>Linear SVC(base)</td>\n",
       "      <td>0.83</td>\n",
       "      <td>0.95</td>\n",
       "      <td>0.88</td>\n",
       "      <td>0.86</td>\n",
       "      <td>0.86</td>\n",
       "    </tr>\n",
       "    <tr>\n",
       "      <th>7</th>\n",
       "      <td>Linear SVC(tuned)</td>\n",
       "      <td>0.82</td>\n",
       "      <td>0.95</td>\n",
       "      <td>0.88</td>\n",
       "      <td>0.85</td>\n",
       "      <td>0.86</td>\n",
       "    </tr>\n",
       "    <tr>\n",
       "      <th>8</th>\n",
       "      <td>XGBoost(base)</td>\n",
       "      <td>0.80</td>\n",
       "      <td>0.94</td>\n",
       "      <td>0.85</td>\n",
       "      <td>0.83</td>\n",
       "      <td>0.84</td>\n",
       "    </tr>\n",
       "    <tr>\n",
       "      <th>9</th>\n",
       "      <td>XGBoost(tuned)</td>\n",
       "      <td>0.77</td>\n",
       "      <td>0.91</td>\n",
       "      <td>0.83</td>\n",
       "      <td>0.80</td>\n",
       "      <td>0.81</td>\n",
       "    </tr>\n",
       "  </tbody>\n",
       "</table>\n",
       "</div>"
      ],
      "text/plain": [
       "                        model accuracy roc_auc_score F1-score(1) F1-score(2)  \\\n",
       "0         Random Forest(base)     0.78          0.92        0.84        0.81   \n",
       "1        Random Forest(tuned)     0.74          0.94        0.79        0.81   \n",
       "2   Logistic Regression(base)     0.82          0.95        0.88        0.86   \n",
       "3  Logistic Regression(tuned)     0.82          0.95        0.88        0.86   \n",
       "4           Naive bayes(base)     0.71          0.93        0.78        0.81   \n",
       "5          Naive bayes(tuned)     0.71          0.93        0.78        0.81   \n",
       "6            Linear SVC(base)     0.83          0.95        0.88        0.86   \n",
       "7           Linear SVC(tuned)     0.82          0.95        0.88        0.85   \n",
       "8               XGBoost(base)     0.80          0.94        0.85        0.83   \n",
       "9              XGBoost(tuned)     0.77          0.91        0.83        0.80   \n",
       "\n",
       "  F1-score(3)  \n",
       "0        0.82  \n",
       "1        0.77  \n",
       "2        0.86  \n",
       "3        0.85  \n",
       "4        0.62  \n",
       "5        0.62  \n",
       "6        0.86  \n",
       "7        0.86  \n",
       "8        0.84  \n",
       "9        0.81  "
      ]
     },
     "execution_count": 147,
     "metadata": {},
     "output_type": "execute_result"
    }
   ],
   "source": [
    "metrics_compile"
   ]
  },
  {
   "cell_type": "markdown",
   "id": "5859df60",
   "metadata": {},
   "source": [
    "## Feeding a single complaint in the model for prediction"
   ]
  },
  {
   "cell_type": "markdown",
   "id": "e7daf6cd",
   "metadata": {},
   "source": [
    "#### Prediction using Logistic Regression (base)"
   ]
  },
  {
   "cell_type": "code",
   "execution_count": 160,
   "id": "973b1553",
   "metadata": {},
   "outputs": [
    {
     "data": {
      "text/html": [
       "<div>\n",
       "<style scoped>\n",
       "    .dataframe tbody tr th:only-of-type {\n",
       "        vertical-align: middle;\n",
       "    }\n",
       "\n",
       "    .dataframe tbody tr th {\n",
       "        vertical-align: top;\n",
       "    }\n",
       "\n",
       "    .dataframe thead th {\n",
       "        text-align: right;\n",
       "    }\n",
       "</style>\n",
       "<table border=\"1\" class=\"dataframe\">\n",
       "  <thead>\n",
       "    <tr style=\"text-align: right;\">\n",
       "      <th></th>\n",
       "      <th>complaint_date</th>\n",
       "      <th>product</th>\n",
       "      <th>complaint_narrative</th>\n",
       "      <th>product_id</th>\n",
       "      <th>text_length</th>\n",
       "      <th>complaint_processed</th>\n",
       "      <th>clean_text</th>\n",
       "    </tr>\n",
       "  </thead>\n",
       "  <tbody>\n",
       "    <tr>\n",
       "      <th>0</th>\n",
       "      <td>8/9/2019</td>\n",
       "      <td>Bank account, debt, money or other service</td>\n",
       "      <td>In an attempt to purchase concert tickets, I c...</td>\n",
       "      <td>0</td>\n",
       "      <td>1518</td>\n",
       "      <td>attempt purchase concert tickets communicated ...</td>\n",
       "      <td>attempt purchase concert tickets communicated ...</td>\n",
       "    </tr>\n",
       "    <tr>\n",
       "      <th>1</th>\n",
       "      <td>1/27/2020</td>\n",
       "      <td>Credit or prepaid card</td>\n",
       "      <td>In XX/XX/2019 I called Chase to discuss my cre...</td>\n",
       "      <td>1</td>\n",
       "      <td>1467</td>\n",
       "      <td>called discuss credit card bill also close acc...</td>\n",
       "      <td>called chase discuss credit card bill also clo...</td>\n",
       "    </tr>\n",
       "  </tbody>\n",
       "</table>\n",
       "</div>"
      ],
      "text/plain": [
       "  complaint_date                                     product  \\\n",
       "0       8/9/2019  Bank account, debt, money or other service   \n",
       "1      1/27/2020                      Credit or prepaid card   \n",
       "\n",
       "                                 complaint_narrative  product_id  text_length  \\\n",
       "0  In an attempt to purchase concert tickets, I c...           0         1518   \n",
       "1  In XX/XX/2019 I called Chase to discuss my cre...           1         1467   \n",
       "\n",
       "                                 complaint_processed  \\\n",
       "0  attempt purchase concert tickets communicated ...   \n",
       "1  called discuss credit card bill also close acc...   \n",
       "\n",
       "                                          clean_text  \n",
       "0  attempt purchase concert tickets communicated ...  \n",
       "1  called chase discuss credit card bill also clo...  "
      ]
     },
     "execution_count": 160,
     "metadata": {},
     "output_type": "execute_result"
    }
   ],
   "source": [
    "df2.head(2)"
   ]
  },
  {
   "cell_type": "code",
   "execution_count": 169,
   "id": "2363fcbc",
   "metadata": {},
   "outputs": [],
   "source": [
    "X = df2['clean_text']\n",
    "y = df2['product_id']\n",
    "\n",
    "X_train, X_test, y_train, y_test = train_test_split(X, y, test_size=0.25, random_state = 44)\n",
    "\n",
    "tfidf = TfidfVectorizer(sublinear_tf =True,\n",
    "                        min_df=5, \n",
    "                        use_idf = True, \n",
    "                        norm = u'l2', \n",
    "                        ngram_range = (1,2), \n",
    "                        smooth_idf = True, \n",
    "                        stop_words = 'english' \n",
    "                       )\n",
    "\n",
    "# Applying the vectorizer\n",
    "fitted_vectorizer = tfidf.fit(X_train)\n",
    "tfidf_vectorizer_vectors = fitted_vectorizer.transform(X_train)\n",
    "model = LogisticRegression(penalty= 'l2',\n",
    "    C=4.281332398719396,\n",
    "    solver= 'lbfgs',\n",
    "    multi_class='multinomial',\n",
    "    max_iter=500,\n",
    "    random_state = 44).fit(tfidf_vectorizer_vectors, y_train)\n"
   ]
  },
  {
   "cell_type": "code",
   "execution_count": 185,
   "id": "2f5f63e8",
   "metadata": {},
   "outputs": [
    {
     "name": "stdout",
     "output_type": "stream",
     "text": [
      "[3]\n"
     ]
    }
   ],
   "source": [
    "new_complaint = X_test.values[444]\n",
    "print(model.predict(fitted_vectorizer.transform([new_complaint])))"
   ]
  },
  {
   "cell_type": "markdown",
   "id": "6dde7b48",
   "metadata": {},
   "source": [
    "Logistic Regression predicted wrong, that belongs to class = 0"
   ]
  },
  {
   "cell_type": "code",
   "execution_count": 186,
   "id": "1e057fc1",
   "metadata": {},
   "outputs": [
    {
     "data": {
      "text/html": [
       "<div>\n",
       "<style scoped>\n",
       "    .dataframe tbody tr th:only-of-type {\n",
       "        vertical-align: middle;\n",
       "    }\n",
       "\n",
       "    .dataframe tbody tr th {\n",
       "        vertical-align: top;\n",
       "    }\n",
       "\n",
       "    .dataframe thead th {\n",
       "        text-align: right;\n",
       "    }\n",
       "</style>\n",
       "<table border=\"1\" class=\"dataframe\">\n",
       "  <thead>\n",
       "    <tr style=\"text-align: right;\">\n",
       "      <th></th>\n",
       "      <th>complaint_date</th>\n",
       "      <th>product</th>\n",
       "      <th>complaint_narrative</th>\n",
       "      <th>product_id</th>\n",
       "      <th>text_length</th>\n",
       "      <th>complaint_processed</th>\n",
       "      <th>clean_text</th>\n",
       "    </tr>\n",
       "  </thead>\n",
       "  <tbody>\n",
       "    <tr>\n",
       "      <th>7359</th>\n",
       "      <td>2/15/2019</td>\n",
       "      <td>Bank account, debt, money or other service</td>\n",
       "      <td>XXXX systematically fails to process Co-Borrow...</td>\n",
       "      <td>0</td>\n",
       "      <td>1668</td>\n",
       "      <td>systematically fails process coborrower releas...</td>\n",
       "      <td>systematically fails process coborrower releas...</td>\n",
       "    </tr>\n",
       "  </tbody>\n",
       "</table>\n",
       "</div>"
      ],
      "text/plain": [
       "     complaint_date                                     product  \\\n",
       "7359      2/15/2019  Bank account, debt, money or other service   \n",
       "\n",
       "                                    complaint_narrative  product_id  \\\n",
       "7359  XXXX systematically fails to process Co-Borrow...           0   \n",
       "\n",
       "      text_length                                complaint_processed  \\\n",
       "7359         1668  systematically fails process coborrower releas...   \n",
       "\n",
       "                                             clean_text  \n",
       "7359  systematically fails process coborrower releas...  "
      ]
     },
     "execution_count": 186,
     "metadata": {},
     "output_type": "execute_result"
    }
   ],
   "source": [
    "df2[df2['clean_text']== new_complaint]"
   ]
  },
  {
   "cell_type": "code",
   "execution_count": 187,
   "id": "0fb1f731",
   "metadata": {},
   "outputs": [
    {
     "name": "stdout",
     "output_type": "stream",
     "text": [
      "[1]\n",
      "went chasecom attempt dispute charge apparent mechanism initiate dispute website logged account written video instructions following url apparently obsolete longer applicable called chase bank report problem website transaction put hold minutes disconnected\n"
     ]
    }
   ],
   "source": [
    "new_complaint_2 = X_test.values[11]\n",
    "print(model.predict(fitted_vectorizer.transform([new_complaint_2])))\n",
    "print(new_complaint_2)"
   ]
  },
  {
   "cell_type": "code",
   "execution_count": 176,
   "id": "0e125044",
   "metadata": {},
   "outputs": [
    {
     "data": {
      "text/html": [
       "<div>\n",
       "<style scoped>\n",
       "    .dataframe tbody tr th:only-of-type {\n",
       "        vertical-align: middle;\n",
       "    }\n",
       "\n",
       "    .dataframe tbody tr th {\n",
       "        vertical-align: top;\n",
       "    }\n",
       "\n",
       "    .dataframe thead th {\n",
       "        text-align: right;\n",
       "    }\n",
       "</style>\n",
       "<table border=\"1\" class=\"dataframe\">\n",
       "  <thead>\n",
       "    <tr style=\"text-align: right;\">\n",
       "      <th></th>\n",
       "      <th>complaint_date</th>\n",
       "      <th>product</th>\n",
       "      <th>complaint_narrative</th>\n",
       "      <th>product_id</th>\n",
       "      <th>text_length</th>\n",
       "      <th>complaint_processed</th>\n",
       "      <th>clean_text</th>\n",
       "    </tr>\n",
       "  </thead>\n",
       "  <tbody>\n",
       "    <tr>\n",
       "      <th>4046</th>\n",
       "      <td>9/17/2021</td>\n",
       "      <td>Credit or prepaid card</td>\n",
       "      <td>Went to chase.com to attempt to dispute a char...</td>\n",
       "      <td>1</td>\n",
       "      <td>426</td>\n",
       "      <td>went chasecom attempt dispute charge apparent ...</td>\n",
       "      <td>went chasecom attempt dispute charge apparent ...</td>\n",
       "    </tr>\n",
       "  </tbody>\n",
       "</table>\n",
       "</div>"
      ],
      "text/plain": [
       "     complaint_date                 product  \\\n",
       "4046      9/17/2021  Credit or prepaid card   \n",
       "\n",
       "                                    complaint_narrative  product_id  \\\n",
       "4046  Went to chase.com to attempt to dispute a char...           1   \n",
       "\n",
       "      text_length                                complaint_processed  \\\n",
       "4046          426  went chasecom attempt dispute charge apparent ...   \n",
       "\n",
       "                                             clean_text  \n",
       "4046  went chasecom attempt dispute charge apparent ...  "
      ]
     },
     "execution_count": 176,
     "metadata": {},
     "output_type": "execute_result"
    }
   ],
   "source": [
    "df2[df2['clean_text']== new_complaint_2]"
   ]
  },
  {
   "cell_type": "markdown",
   "id": "878dd280",
   "metadata": {},
   "source": [
    "This complaint has been predicted correct which belongs to class 1"
   ]
  },
  {
   "cell_type": "markdown",
   "id": "628adbe9",
   "metadata": {},
   "source": [
    "#### Prediction using Linear SVC(base)"
   ]
  },
  {
   "cell_type": "code",
   "execution_count": 188,
   "id": "cb45d8c2",
   "metadata": {},
   "outputs": [],
   "source": [
    "X = df2['clean_text']\n",
    "y = df2['product_id']\n",
    "\n",
    "\n",
    "\n",
    "X_train, X_test, y_train, y_test = train_test_split(X, y, \n",
    "                                                    test_size=0.25,\n",
    "                                                    random_state = 0)\n",
    "\n",
    "tfidf = TfidfVectorizer(sublinear_tf =True, \n",
    "                        min_df=5, \n",
    "                        use_idf = True, \n",
    "                        norm = u'l2', \n",
    "                        ngram_range = (1,2), \n",
    "                        smooth_idf = True, \n",
    "                        stop_words = 'english' \n",
    "                       )\n",
    "\n",
    "fitted_vectorizer = tfidf.fit(X_train)\n",
    "tfidf_vectorizer_vectors = fitted_vectorizer.transform(X_train)\n",
    "\n",
    "model_svc = LinearSVC().fit(tfidf_vectorizer_vectors, y_train)"
   ]
  },
  {
   "cell_type": "code",
   "execution_count": 191,
   "id": "eead9c5e",
   "metadata": {},
   "outputs": [
    {
     "name": "stdout",
     "output_type": "stream",
     "text": [
      "[1]\n",
      "given checking account number routing pay credit card balance credit card balance days showed balance asked return make payment someone promise would paid checking account paid credit card original payment returned insufficient funds told send back bank messed definitaley money account pay balance submitted payment transaction amound returned insufficient funds disputed transaction sent requested information received letter dispute settled responsible transaction\n"
     ]
    }
   ],
   "source": [
    "new_complaint = X_test.values[444]\n",
    "print(model_svc.predict(fitted_vectorizer.transform([new_complaint])))\n",
    "print(new_complaint)"
   ]
  },
  {
   "cell_type": "markdown",
   "id": "93de638e",
   "metadata": {},
   "source": [
    "Linear SVC predicted correctly"
   ]
  },
  {
   "cell_type": "code",
   "execution_count": 192,
   "id": "a0b786c9",
   "metadata": {},
   "outputs": [
    {
     "data": {
      "text/html": [
       "<div>\n",
       "<style scoped>\n",
       "    .dataframe tbody tr th:only-of-type {\n",
       "        vertical-align: middle;\n",
       "    }\n",
       "\n",
       "    .dataframe tbody tr th {\n",
       "        vertical-align: top;\n",
       "    }\n",
       "\n",
       "    .dataframe thead th {\n",
       "        text-align: right;\n",
       "    }\n",
       "</style>\n",
       "<table border=\"1\" class=\"dataframe\">\n",
       "  <thead>\n",
       "    <tr style=\"text-align: right;\">\n",
       "      <th></th>\n",
       "      <th>complaint_date</th>\n",
       "      <th>product</th>\n",
       "      <th>complaint_narrative</th>\n",
       "      <th>product_id</th>\n",
       "      <th>text_length</th>\n",
       "      <th>complaint_processed</th>\n",
       "      <th>clean_text</th>\n",
       "    </tr>\n",
       "  </thead>\n",
       "  <tbody>\n",
       "    <tr>\n",
       "      <th>10295</th>\n",
       "      <td>4/28/2021</td>\n",
       "      <td>Credit or prepaid card</td>\n",
       "      <td>On XX/XX/21 I was given a checking account num...</td>\n",
       "      <td>1</td>\n",
       "      <td>924</td>\n",
       "      <td>given checking account number routing pay cred...</td>\n",
       "      <td>given checking account number routing pay cred...</td>\n",
       "    </tr>\n",
       "  </tbody>\n",
       "</table>\n",
       "</div>"
      ],
      "text/plain": [
       "      complaint_date                 product  \\\n",
       "10295      4/28/2021  Credit or prepaid card   \n",
       "\n",
       "                                     complaint_narrative  product_id  \\\n",
       "10295  On XX/XX/21 I was given a checking account num...           1   \n",
       "\n",
       "       text_length                                complaint_processed  \\\n",
       "10295          924  given checking account number routing pay cred...   \n",
       "\n",
       "                                              clean_text  \n",
       "10295  given checking account number routing pay cred...  "
      ]
     },
     "execution_count": 192,
     "metadata": {},
     "output_type": "execute_result"
    }
   ],
   "source": [
    "df2[df2['clean_text']== new_complaint]"
   ]
  },
  {
   "cell_type": "markdown",
   "id": "71999325",
   "metadata": {},
   "source": [
    "## Appendix"
   ]
  },
  {
   "cell_type": "code",
   "execution_count": 36,
   "id": "2922874d",
   "metadata": {},
   "outputs": [
    {
     "data": {
      "text/plain": [
       "'1.0.1'"
      ]
     },
     "execution_count": 36,
     "metadata": {},
     "output_type": "execute_result"
    }
   ],
   "source": [
    "import sklearn\n",
    "sklearn.__version__"
   ]
  }
 ],
 "metadata": {
  "kernelspec": {
   "display_name": "Python 3 (ipykernel)",
   "language": "python",
   "name": "python3"
  },
  "language_info": {
   "codemirror_mode": {
    "name": "ipython",
    "version": 3
   },
   "file_extension": ".py",
   "mimetype": "text/x-python",
   "name": "python",
   "nbconvert_exporter": "python",
   "pygments_lexer": "ipython3",
   "version": "3.9.7"
  },
  "toc": {
   "base_numbering": 1,
   "nav_menu": {},
   "number_sections": false,
   "sideBar": true,
   "skip_h1_title": false,
   "title_cell": "Table of Contents",
   "title_sidebar": "Contents",
   "toc_cell": false,
   "toc_position": {
    "height": "calc(100% - 180px)",
    "left": "10px",
    "top": "150px",
    "width": "165px"
   },
   "toc_section_display": true,
   "toc_window_display": true
  }
 },
 "nbformat": 4,
 "nbformat_minor": 5
}
