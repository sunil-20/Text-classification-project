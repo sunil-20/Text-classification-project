{
 "cells": [
  {
   "cell_type": "code",
   "execution_count": 1,
   "id": "4b5fcf82",
   "metadata": {},
   "outputs": [],
   "source": [
    "import numpy as np\n",
    "import pandas as pd\n",
    "from collections import Counter\n",
    "\n",
    "import seaborn as sns\n",
    "import matplotlib.pyplot as plt\n",
    "from datetime import datetime\n",
    "\n",
    "from wordcloud import WordCloud, STOPWORDS \n",
    "import random\n",
    "import time\n",
    "import re \n",
    "import string\n",
    "import nltk\n",
    "\n",
    "from sklearn.model_selection import train_test_split,RepeatedStratifiedKFold\n",
    "\n",
    "from sklearn.feature_extraction.text import TfidfVectorizer\n",
    "from sklearn.feature_extraction.text import TfidfTransformer\n",
    "\n",
    "from sklearn.naive_bayes import MultinomialNB\n",
    "from sklearn.linear_model import LogisticRegression\n",
    "from sklearn.ensemble import RandomForestClassifier\n",
    "from sklearn.svm import LinearSVC\n",
    "from xgboost.sklearn import XGBClassifier\n",
    "from sklearn.model_selection import cross_val_score\n",
    "from sklearn.metrics import confusion_matrix, accuracy_score, classification_report\n",
    "from sklearn import metrics\n",
    "\n",
    "from imblearn.pipeline import Pipeline\n",
    "from sklearn.pipeline import make_pipeline\n",
    "from sklearn.metrics import plot_confusion_matrix, f1_score,auc,roc_curve,roc_auc_score, log_loss, make_scorer, precision_recall_curve\n",
    "from sklearn.model_selection import StratifiedKFold\n",
    "from sklearn.model_selection import GridSearchCV\n",
    "\n",
    "pd.options.mode.chained_assignment = None  # default value='warn'"
   ]
  },
  {
   "cell_type": "code",
   "execution_count": null,
   "id": "83706cc4",
   "metadata": {},
   "outputs": [],
   "source": []
  },
  {
   "cell_type": "code",
   "execution_count": 2,
   "id": "99ad95d9",
   "metadata": {},
   "outputs": [],
   "source": [
    "df2 = pd.read_csv('df_clean_text.csv')"
   ]
  },
  {
   "cell_type": "code",
   "execution_count": 3,
   "id": "98026087",
   "metadata": {},
   "outputs": [
    {
     "data": {
      "text/html": [
       "<div>\n",
       "<style scoped>\n",
       "    .dataframe tbody tr th:only-of-type {\n",
       "        vertical-align: middle;\n",
       "    }\n",
       "\n",
       "    .dataframe tbody tr th {\n",
       "        vertical-align: top;\n",
       "    }\n",
       "\n",
       "    .dataframe thead th {\n",
       "        text-align: right;\n",
       "    }\n",
       "</style>\n",
       "<table border=\"1\" class=\"dataframe\">\n",
       "  <thead>\n",
       "    <tr style=\"text-align: right;\">\n",
       "      <th></th>\n",
       "      <th>complaint_date</th>\n",
       "      <th>product</th>\n",
       "      <th>complaint_narrative</th>\n",
       "      <th>product_id</th>\n",
       "      <th>text_length</th>\n",
       "      <th>complaint_processed</th>\n",
       "      <th>clean_text</th>\n",
       "    </tr>\n",
       "  </thead>\n",
       "  <tbody>\n",
       "    <tr>\n",
       "      <th>0</th>\n",
       "      <td>8/9/2019</td>\n",
       "      <td>Money transfer, virtual currency, or money ser...</td>\n",
       "      <td>In an attempt to purchase concert tickets, I c...</td>\n",
       "      <td>0</td>\n",
       "      <td>1518</td>\n",
       "      <td>attempt purchase concert tickets communicated ...</td>\n",
       "      <td>attempt purchase concert tickets communicated ...</td>\n",
       "    </tr>\n",
       "    <tr>\n",
       "      <th>1</th>\n",
       "      <td>1/27/2020</td>\n",
       "      <td>Credit or prepaid card</td>\n",
       "      <td>In XX/XX/2019 I called Chase to discuss my cre...</td>\n",
       "      <td>1</td>\n",
       "      <td>1467</td>\n",
       "      <td>called discuss credit card bill also close acc...</td>\n",
       "      <td>called chase discuss credit card bill also clo...</td>\n",
       "    </tr>\n",
       "  </tbody>\n",
       "</table>\n",
       "</div>"
      ],
      "text/plain": [
       "  complaint_date                                            product  \\\n",
       "0       8/9/2019  Money transfer, virtual currency, or money ser...   \n",
       "1      1/27/2020                             Credit or prepaid card   \n",
       "\n",
       "                                 complaint_narrative  product_id  text_length  \\\n",
       "0  In an attempt to purchase concert tickets, I c...           0         1518   \n",
       "1  In XX/XX/2019 I called Chase to discuss my cre...           1         1467   \n",
       "\n",
       "                                 complaint_processed  \\\n",
       "0  attempt purchase concert tickets communicated ...   \n",
       "1  called discuss credit card bill also close acc...   \n",
       "\n",
       "                                          clean_text  \n",
       "0  attempt purchase concert tickets communicated ...  \n",
       "1  called chase discuss credit card bill also clo...  "
      ]
     },
     "execution_count": 3,
     "metadata": {},
     "output_type": "execute_result"
    }
   ],
   "source": [
    "df2.head(2)"
   ]
  },
  {
   "cell_type": "code",
   "execution_count": 28,
   "id": "c1c6643e",
   "metadata": {},
   "outputs": [
    {
     "data": {
      "text/plain": [
       "(11831, 7)"
      ]
     },
     "execution_count": 28,
     "metadata": {},
     "output_type": "execute_result"
    }
   ],
   "source": [
    "df2.shape"
   ]
  },
  {
   "cell_type": "code",
   "execution_count": 3,
   "id": "169110c8",
   "metadata": {},
   "outputs": [],
   "source": [
    "# Merging some of the product categories and renaming for better understanding\n",
    "df2.replace({'product': \n",
    "             {'Credit reporting, credit repair services, or other personal consumer reports': \n",
    "              'Credit reporting, repair, or other', \n",
    "              'Credit reporting': 'Credit reporting, repair, or other',\n",
    "             'Credit card': 'Credit or prepaid card',\n",
    "             'Credit card or prepaid card': 'Credit or prepaid card', \n",
    "             'Prepaid card': 'Credit or prepaid card',\n",
    "             'Payday loan, title loan, or personal loan': 'Payday, title, or personal loan',\n",
    "             'Money transfers': 'Money transfer, virtual currency, or money service',\n",
    "             'Consumer Loan':'Payday, title, or personal loan',\n",
    "             'Student loan': 'Payday, title, or personal loan',\n",
    "             'Vehicle loan or lease':'Payday, title, or personal loan',\n",
    "              'Bank account or service':'Bank account or other service',\n",
    "             'Other financial service':'Bank account or other service',\n",
    "             'Mortgage':'Payday, title, or personal loan',\n",
    "             'Debt collection': 'Bank account or other service'\n",
    "              \n",
    "              \n",
    "             }},inplace = True)"
   ]
  },
  {
   "cell_type": "code",
   "execution_count": 4,
   "id": "ccdc957c",
   "metadata": {},
   "outputs": [
    {
     "name": "stdout",
     "output_type": "stream",
     "text": [
      "product\n",
      "Credit or prepaid card                                4111\n",
      "Checking or savings account                           3364\n",
      "Credit reporting, repair, or other                    1636\n",
      "Payday, title, or personal loan                       1390\n",
      "Money transfer, virtual currency, or money service     754\n",
      "Bank account or other service                          576\n",
      "dtype: int64\n"
     ]
    }
   ],
   "source": [
    "# checking for unique values in Product column after renaming and combining the values\n",
    "products = df2.groupby('product').size()\n",
    "products.sort_values(ascending = False, inplace = True)\n",
    "print(products)"
   ]
  },
  {
   "cell_type": "code",
   "execution_count": 5,
   "id": "273ad810",
   "metadata": {},
   "outputs": [],
   "source": [
    "# Now mapping each class with specific value for further use\n",
    "df2['product_id'] = df2['product'].factorize()[0]"
   ]
  },
  {
   "cell_type": "code",
   "execution_count": 6,
   "id": "a8a2fafc",
   "metadata": {},
   "outputs": [
    {
     "data": {
      "text/plain": [
       "array([0, 1, 2, 3, 4, 5], dtype=int64)"
      ]
     },
     "execution_count": 6,
     "metadata": {},
     "output_type": "execute_result"
    }
   ],
   "source": [
    "# check uinque of product_id column\n",
    "df2.product_id.unique()"
   ]
  },
  {
   "cell_type": "code",
   "execution_count": 7,
   "id": "f6718e05",
   "metadata": {},
   "outputs": [],
   "source": [
    "tfidf = TfidfVectorizer(sublinear_tf =True, # log form for frequency\n",
    "                        min_df=5, # minimun number of documents a word must be present\n",
    "                        use_idf = True, # \n",
    "                        norm = u'l2', # set euclidian norm of 1\n",
    "                        ngram_range = (1,2), # consider unigram and bigram\n",
    "                        smooth_idf = True, \n",
    "                        stop_words = 'english' # remove pronouns, remove noisy features\n",
    "                       )\n",
    "\n",
    "# Applying the vectorizer\n",
    "X = tfidf.fit_transform(df2.clean_text)"
   ]
  },
  {
   "cell_type": "code",
   "execution_count": 27,
   "id": "b1dfd6e3",
   "metadata": {},
   "outputs": [
    {
     "data": {
      "text/plain": [
       "(11831, 36971)"
      ]
     },
     "execution_count": 27,
     "metadata": {},
     "output_type": "execute_result"
    }
   ],
   "source": [
    "X.shape"
   ]
  },
  {
   "cell_type": "code",
   "execution_count": 8,
   "id": "051d8db1",
   "metadata": {},
   "outputs": [],
   "source": [
    "y = df2['product_id']"
   ]
  },
  {
   "cell_type": "code",
   "execution_count": 9,
   "id": "02deb79d",
   "metadata": {},
   "outputs": [],
   "source": [
    "# Train Test and Split\n",
    "X_train, X_test, y_train, y_test = train_test_split(X, y,test_size=0.2,random_state=44)"
   ]
  },
  {
   "cell_type": "code",
   "execution_count": null,
   "id": "b3a268eb",
   "metadata": {},
   "outputs": [],
   "source": [
    "# Global Metrics variable\n",
    "metrics_models = {'model':[],'accuracy':[],'roc_auc_score':[],'standard deviation':[]}"
   ]
  },
  {
   "cell_type": "markdown",
   "id": "9291f595",
   "metadata": {},
   "source": [
    "## A. Random Forest"
   ]
  },
  {
   "cell_type": "markdown",
   "id": "d76b40b7",
   "metadata": {},
   "source": [
    "### Random Forest(base)"
   ]
  },
  {
   "cell_type": "code",
   "execution_count": 42,
   "id": "2148ddd5",
   "metadata": {},
   "outputs": [
    {
     "name": "stdout",
     "output_type": "stream",
     "text": [
      "              precision    recall  f1-score   support\n",
      "\n",
      "           0       0.79      0.20      0.32       135\n",
      "           1       0.77      0.90      0.83       853\n",
      "           2       0.76      0.88      0.82       674\n",
      "           3       0.86      0.81      0.84       275\n",
      "           4       0.77      0.65      0.71       318\n",
      "           5       0.87      0.18      0.30       112\n",
      "\n",
      "    accuracy                           0.78      2367\n",
      "   macro avg       0.80      0.60      0.63      2367\n",
      "weighted avg       0.78      0.78      0.76      2367\n",
      "\n",
      "roc_auc_score: 0.914890\n"
     ]
    },
    {
     "data": {
      "image/png": "[encoded data removed]",
      "text/plain": [
       "<Figure size 432x288 with 2 Axes>"
      ]
     },
     "metadata": {
      "needs_background": "light"
     },
     "output_type": "display_data"
    }
   ],
   "source": [
    "rf_clf = RandomForestClassifier(n_estimators=24, random_state=64)\n",
    "rf_clf.fit(X_train, y_train)\n",
    "\n",
    "rf_prediction =rf_clf.predict(X_test)\n",
    "rf_pred_proba =rf_clf.predict_proba(X_test)\n",
    "\n",
    "cnf_matrix = metrics.confusion_matrix(y_test, rf_prediction)\n",
    "\n",
    "class_names=[0,1,2,3,4,5] # name  of classes\n",
    "fig, ax = plt.subplots()\n",
    "tick_marks = np.arange(len(class_names))\n",
    "plt.xticks(tick_marks, class_names)\n",
    "plt.yticks(tick_marks, class_names)\n",
    "# create heatmap\n",
    "sns.heatmap(pd.DataFrame(cnf_matrix), annot=True, cmap=\"YlGnBu\" ,fmt='g')\n",
    "ax.xaxis.set_label_position(\"top\")\n",
    "plt.tight_layout()\n",
    "plt.title('Confusion matrix', y=1.1)\n",
    "plt.ylabel('Actual label')\n",
    "plt.xlabel('Predicted label')\n",
    "\n",
    "print(classification_report(y_test,rf_prediction, labels=np.unique(rf_prediction)))\n",
    "\n",
    "print('roc_auc_score: {:3f}'.format(roc_auc_score(y_test, rf_pred_proba, multi_class = 'ovr')))"
   ]
  },
  {
   "cell_type": "markdown",
   "id": "e7f91a7d",
   "metadata": {},
   "source": [
    "### Random Forest(tuned)"
   ]
  },
  {
   "cell_type": "code",
   "execution_count": 44,
   "id": "c1ddb69c",
   "metadata": {},
   "outputs": [
    {
     "name": "stdout",
     "output_type": "stream",
     "text": [
      "Fitting 5 folds for each of 2160 candidates, totalling 10800 fits\n"
     ]
    }
   ],
   "source": [
    "rft_clf = RandomForestClassifier(random_state=64)\n",
    "\n",
    "cv = StratifiedKFold(n_splits=5, shuffle=True, random_state=44)\n",
    "param_grid = {'n_estimators': range(100,200,5),\n",
    "               'max_features': ['auto', 'sqrt'],\n",
    "               'max_depth':[10,15,20],\n",
    "               'min_samples_split': [2, 5, 10],\n",
    "               'min_samples_leaf': [1,2,4],\n",
    "               'bootstrap':[True, False]}\n",
    "rft_grid = GridSearchCV(rft_clf, param_grid= param_grid,\n",
    "                    cv = cv,\n",
    "                    n_jobs = -1,\n",
    "                   verbose = 2)\n",
    "rft_grid.fit(X_train, y_train)\n",
    "rft_predict = rft_grid.predict(X_test)\n",
    "rft_pred_proba =rft_grid.predict_proba(X_test)"
   ]
  },
  {
   "cell_type": "code",
   "execution_count": 46,
   "id": "1710d000",
   "metadata": {},
   "outputs": [
    {
     "data": {
      "text/plain": [
       "{'bootstrap': False,\n",
       " 'max_depth': 20,\n",
       " 'max_features': 'auto',\n",
       " 'min_samples_leaf': 1,\n",
       " 'min_samples_split': 2,\n",
       " 'n_estimators': 185}"
      ]
     },
     "execution_count": 46,
     "metadata": {},
     "output_type": "execute_result"
    }
   ],
   "source": [
    "rft_grid.best_params_"
   ]
  },
  {
   "cell_type": "code",
   "execution_count": 49,
   "id": "c3520d01",
   "metadata": {},
   "outputs": [
    {
     "name": "stdout",
     "output_type": "stream",
     "text": [
      "[[  0  17 118   0   0   0]\n",
      " [  0 808  30   1  14   0]\n",
      " [  0  82 592   0   0   0]\n",
      " [  0  68  23 180   4   0]\n",
      " [  0 146   8  10 154   0]\n",
      " [  0  70  18  10   7   7]]\n",
      "------------------------------------------------------------\n",
      "              precision    recall  f1-score   support\n",
      "\n",
      "           1       0.68      0.95      0.79       853\n",
      "           2       0.75      0.88      0.81       674\n",
      "           3       0.90      0.65      0.76       275\n",
      "           4       0.86      0.48      0.62       318\n",
      "           5       1.00      0.06      0.12       112\n",
      "\n",
      "   micro avg       0.74      0.78      0.76      2232\n",
      "   macro avg       0.84      0.61      0.62      2232\n",
      "weighted avg       0.77      0.78      0.73      2232\n",
      "\n",
      "Accuracy Score = 0.736\n",
      "roc_auc_score: 0.936883\n"
     ]
    },
    {
     "data": {
      "image/png": "[encoded data removed]",
      "text/plain": [
       "<Figure size 432x288 with 2 Axes>"
      ]
     },
     "metadata": {
      "needs_background": "light"
     },
     "output_type": "display_data"
    }
   ],
   "source": [
    "print(confusion_matrix(y_test, rft_predict))\n",
    "print('------'*10)\n",
    "print(classification_report(y_test,rft_predict, labels=np.unique(rft_predict)))\n",
    "\n",
    "cnf_matrix = metrics.confusion_matrix(y_test, rft_predict)\n",
    "\n",
    "class_names=[0,1,2,3,4,5] # name  of classes\n",
    "fig, ax = plt.subplots()\n",
    "tick_marks = np.arange(len(class_names))\n",
    "plt.xticks(tick_marks, class_names)\n",
    "plt.yticks(tick_marks, class_names)\n",
    "# create heatmap\n",
    "sns.heatmap(pd.DataFrame(cnf_matrix), annot=True, cmap=\"YlGnBu\" ,fmt='g')\n",
    "ax.xaxis.set_label_position(\"top\")\n",
    "plt.tight_layout()\n",
    "plt.title('Confusion matrix', y=1.1)\n",
    "plt.ylabel('Actual label')\n",
    "plt.xlabel('Predicted label')\n",
    "\n",
    "print('Accuracy Score = {:.3f}'.format(metrics.accuracy_score(y_test, rft_predict, sample_weight = None)))\n",
    "print('roc_auc_score: {:3f}'.format(roc_auc_score(y_test, rft_pred_proba, multi_class = 'ovr')))"
   ]
  },
  {
   "cell_type": "markdown",
   "id": "21f43233",
   "metadata": {},
   "source": [
    "## B. Logistic Regression"
   ]
  },
  {
   "cell_type": "markdown",
   "id": "04ad2172",
   "metadata": {},
   "source": [
    "### Logistic Regression(base)"
   ]
  },
  {
   "cell_type": "code",
   "execution_count": 13,
   "id": "919fc999",
   "metadata": {},
   "outputs": [],
   "source": [
    "lr_clf = LogisticRegression(solver='lbfgs',max_iter= 200, multi_class='multinomial', random_state = 44)\n",
    "lr_clf.fit(X_train, y_train)\n",
    "\n",
    "lr_prediction = lr_clf.predict(X_test)\n",
    "lr_pred_proba =lr_clf.predict_proba(X_test)"
   ]
  },
  {
   "cell_type": "code",
   "execution_count": 14,
   "id": "234f0b58",
   "metadata": {},
   "outputs": [
    {
     "name": "stdout",
     "output_type": "stream",
     "text": [
      "              precision    recall  f1-score   support\n",
      "\n",
      "           0       0.81      0.39      0.52       135\n",
      "           1       0.84      0.92      0.88       853\n",
      "           2       0.81      0.91      0.86       674\n",
      "           3       0.86      0.86      0.86       275\n",
      "           4       0.74      0.71      0.72       318\n",
      "           5       0.82      0.25      0.38       112\n",
      "\n",
      "    accuracy                           0.82      2367\n",
      "   macro avg       0.81      0.67      0.70      2367\n",
      "weighted avg       0.82      0.82      0.80      2367\n",
      "\n",
      "roc_auc_score: 0.950141\n"
     ]
    },
    {
     "data": {
      "image/png": "[encoded data removed]",
      "text/plain": [
       "<Figure size 432x288 with 2 Axes>"
      ]
     },
     "metadata": {
      "needs_background": "light"
     },
     "output_type": "display_data"
    }
   ],
   "source": [
    "cnf_matrix = metrics.confusion_matrix(y_test, lr_prediction)\n",
    "\n",
    "class_names=[0,1,2,3,4,5,] # name  of classes\n",
    "fig, ax = plt.subplots()\n",
    "tick_marks = np.arange(len(class_names))\n",
    "plt.xticks(tick_marks, class_names)\n",
    "plt.yticks(tick_marks, class_names)\n",
    "# create heatmap\n",
    "sns.heatmap(pd.DataFrame(cnf_matrix), annot=True, cmap=\"YlGnBu\" ,fmt='g')\n",
    "ax.xaxis.set_label_position(\"top\")\n",
    "plt.tight_layout()\n",
    "plt.title('Confusion matrix', y=1.1)\n",
    "plt.ylabel('Actual label')\n",
    "plt.xlabel('Predicted label')\n",
    "\n",
    "print(classification_report(y_test,lr_prediction, labels=np.unique(lr_prediction)))\n",
    "print('roc_auc_score: {:3f}'.format(roc_auc_score(y_test, lr_pred_proba, multi_class = 'ovr')))"
   ]
  },
  {
   "cell_type": "markdown",
   "id": "27475b1e",
   "metadata": {},
   "source": [
    "### Logistic Regression(tuned)"
   ]
  },
  {
   "cell_type": "code",
   "execution_count": 16,
   "id": "6d0f9055",
   "metadata": {
    "scrolled": true
   },
   "outputs": [
    {
     "name": "stdout",
     "output_type": "stream",
     "text": [
      "Fitting 5 folds for each of 20 candidates, totalling 100 fits\n"
     ]
    },
    {
     "data": {
      "text/plain": [
       "{'C': 11.288378916846883,\n",
       " 'max_iter': 500,\n",
       " 'multi_class': 'multinomial',\n",
       " 'penalty': 'l2',\n",
       " 'random_state': 44,\n",
       " 'solver': 'lbfgs'}"
      ]
     },
     "execution_count": 16,
     "metadata": {},
     "output_type": "execute_result"
    }
   ],
   "source": [
    "#time_start = time.time()\n",
    "lrt_clf = LogisticRegression()\n",
    "#cv = StratifiedKFold(n_splits=5, shuffle=True, random_state=44)\n",
    "param_grid = {\n",
    "    'penalty': ['l2'],\n",
    "    'C': np.logspace(-4,4,20),\n",
    "    'solver': ['lbfgs'],\n",
    "    'multi_class':['multinomial'],\n",
    "    'max_iter':[500],\n",
    "    'random_state': [44]\n",
    "    \n",
    "}\n",
    "grid = GridSearchCV(lrt_clf, param_grid = param_grid, cv =5, n_jobs = -1, verbose = 2)\n",
    "grid.fit(X_train, y_train)\n",
    "grid.best_params_\n",
    "#print('Execution time: {}'.format(time.time() - time_start))"
   ]
  },
  {
   "cell_type": "code",
   "execution_count": 17,
   "id": "43fad584",
   "metadata": {},
   "outputs": [
    {
     "name": "stdout",
     "output_type": "stream",
     "text": [
      "              precision    recall  f1-score   support\n",
      "\n",
      "           0       0.75      0.51      0.61       135\n",
      "           1       0.86      0.91      0.88       853\n",
      "           2       0.82      0.90      0.86       674\n",
      "           3       0.85      0.85      0.85       275\n",
      "           4       0.76      0.74      0.75       318\n",
      "           5       0.72      0.34      0.46       112\n",
      "\n",
      "    accuracy                           0.83      2367\n",
      "   macro avg       0.79      0.71      0.74      2367\n",
      "weighted avg       0.82      0.83      0.82      2367\n",
      "\n",
      "roc_auc_score: 0.950977\n"
     ]
    },
    {
     "data": {
      "image/png": "[encoded data removed]",
      "text/plain": [
       "<Figure size 432x288 with 2 Axes>"
      ]
     },
     "metadata": {
      "needs_background": "light"
     },
     "output_type": "display_data"
    }
   ],
   "source": [
    "lrt_prediction = grid.predict(X_test)\n",
    "lrt_pred_proba =grid.predict_proba(X_test)\n",
    "\n",
    "cnf_matrix = metrics.confusion_matrix(y_test, lrt_prediction)\n",
    "\n",
    "class_names=[0,1,2,3,4,5,] # name  of classes\n",
    "fig, ax = plt.subplots()\n",
    "tick_marks = np.arange(len(class_names))\n",
    "plt.xticks(tick_marks, class_names)\n",
    "plt.yticks(tick_marks, class_names)\n",
    "# create heatmap\n",
    "sns.heatmap(pd.DataFrame(cnf_matrix), annot=True, cmap=\"YlGnBu\" ,fmt='g')\n",
    "ax.xaxis.set_label_position(\"top\")\n",
    "plt.tight_layout()\n",
    "plt.title('Confusion matrix Logistic(tuned)', y=1.1)\n",
    "plt.ylabel('Actual label')\n",
    "plt.xlabel('Predicted label')\n",
    "\n",
    "print(classification_report(y_test,lrt_prediction, labels=np.unique(lrt_prediction)))\n",
    "print('roc_auc_score: {:3f}'.format(roc_auc_score(y_test, lrt_pred_proba, multi_class = 'ovr')))    "
   ]
  },
  {
   "cell_type": "markdown",
   "id": "8f6f40c2",
   "metadata": {},
   "source": [
    "## C. Naive bayes"
   ]
  },
  {
   "cell_type": "markdown",
   "id": "14465508",
   "metadata": {},
   "source": [
    "### Naive bayes(base)"
   ]
  },
  {
   "cell_type": "code",
   "execution_count": 18,
   "id": "e6f5f118",
   "metadata": {},
   "outputs": [],
   "source": [
    "## Training the model wiht naive bayes text classification\n",
    "nb = MultinomialNB()\n",
    "nb.fit(X_train,y_train)\n",
    "\n",
    "# predictions\n",
    "nb_pred = nb.predict(X_test)\n",
    "nb_pred_proba = nb.predict_proba(X_test)\n"
   ]
  },
  {
   "cell_type": "code",
   "execution_count": 20,
   "id": "56cb70fa",
   "metadata": {},
   "outputs": [
    {
     "name": "stdout",
     "output_type": "stream",
     "text": [
      "              precision    recall  f1-score   support\n",
      "\n",
      "           0       0.00      0.00      0.00       135\n",
      "           1       0.65      0.95      0.78       853\n",
      "           2       0.75      0.89      0.81       674\n",
      "           3       0.89      0.48      0.62       275\n",
      "           4       0.79      0.44      0.56       318\n",
      "\n",
      "   micro avg       0.71      0.75      0.73      2255\n",
      "   macro avg       0.62      0.55      0.55      2255\n",
      "weighted avg       0.69      0.75      0.69      2255\n",
      "\n",
      "roc_auc_score: 0.910839\n",
      "Accuracy Score = 0.710\n"
     ]
    },
    {
     "data": {
      "image/png": "[encoded data removed]",
      "text/plain": [
       "<Figure size 432x288 with 2 Axes>"
      ]
     },
     "metadata": {
      "needs_background": "light"
     },
     "output_type": "display_data"
    }
   ],
   "source": [
    "cnf_matrix = metrics.confusion_matrix(y_test, nb_pred)\n",
    "\n",
    "class_names=[0,1,2,3,4,5,] # name  of classes\n",
    "fig, ax = plt.subplots()\n",
    "tick_marks = np.arange(len(class_names))\n",
    "plt.xticks(tick_marks, class_names)\n",
    "plt.yticks(tick_marks, class_names)\n",
    "# create heatmap\n",
    "sns.heatmap(pd.DataFrame(cnf_matrix), annot=True, cmap=\"YlGnBu\" ,fmt='g')\n",
    "ax.xaxis.set_label_position(\"top\")\n",
    "plt.tight_layout()\n",
    "plt.title('Confusion matrix Naive bayes', y=1.1)\n",
    "plt.ylabel('Actual label')\n",
    "plt.xlabel('Predicted label')\n",
    "\n",
    "print(classification_report(y_test,nb_pred, labels=np.unique(nb_pred)))\n",
    "print('roc_auc_score: {:3f}'.format(roc_auc_score(y_test, nb_pred_proba, multi_class = 'ovr')))\n",
    "print('Accuracy Score = {:.3f}'.format(metrics.accuracy_score(y_test, nb_pred, sample_weight = None)))\n"
   ]
  },
  {
   "cell_type": "markdown",
   "id": "cf89f5bb",
   "metadata": {},
   "source": [
    "### Naive bayes(tuned)"
   ]
  },
  {
   "cell_type": "code",
   "execution_count": 22,
   "id": "7ca5c8fe",
   "metadata": {},
   "outputs": [
    {
     "name": "stdout",
     "output_type": "stream",
     "text": [
      "Fitting 5 folds for each of 1 candidates, totalling 5 fits\n"
     ]
    },
    {
     "data": {
      "text/plain": [
       "{'alpha': 1, 'class_prior': None, 'fit_prior': True}"
      ]
     },
     "execution_count": 22,
     "metadata": {},
     "output_type": "execute_result"
    }
   ],
   "source": [
    "nbt = MultinomialNB()\n",
    "cv = StratifiedKFold(n_splits=5, shuffle=True, random_state=44)\n",
    "\n",
    "param_grid = {'alpha':[1],\n",
    "              'class_prior':[None],\n",
    "              'fit_prior':[True]               \n",
    "}\n",
    "grid = GridSearchCV(nbt, param_grid = param_grid, cv =cv, n_jobs = -1, verbose = 2)\n",
    "grid.fit(X_train, y_train)\n",
    "grid.best_params_"
   ]
  },
  {
   "cell_type": "code",
   "execution_count": 24,
   "id": "0f7f16ea",
   "metadata": {},
   "outputs": [
    {
     "name": "stdout",
     "output_type": "stream",
     "text": [
      "              precision    recall  f1-score   support\n",
      "\n",
      "           0       0.00      0.00      0.00       135\n",
      "           1       0.65      0.95      0.78       853\n",
      "           2       0.75      0.89      0.81       674\n",
      "           3       0.89      0.48      0.62       275\n",
      "           4       0.79      0.44      0.56       318\n",
      "\n",
      "   micro avg       0.71      0.75      0.73      2255\n",
      "   macro avg       0.62      0.55      0.55      2255\n",
      "weighted avg       0.69      0.75      0.69      2255\n",
      "\n",
      "roc_auc_score: 0.910839\n",
      "Accuracy Score = 0.710\n"
     ]
    },
    {
     "data": {
      "image/png": "[encoded data removed]",
      "text/plain": [
       "<Figure size 432x288 with 2 Axes>"
      ]
     },
     "metadata": {
      "needs_background": "light"
     },
     "output_type": "display_data"
    }
   ],
   "source": [
    "# predictions\n",
    "nbt_pred = grid.predict(X_test)\n",
    "nbt_pred_proba = grid.predict_proba(X_test)\n",
    "\n",
    "cnf_matrix = metrics.confusion_matrix(y_test, nbt_pred)\n",
    "\n",
    "class_names=[0,1,2,3,4,5,] # name  of classes\n",
    "fig, ax = plt.subplots()\n",
    "tick_marks = np.arange(len(class_names))\n",
    "plt.xticks(tick_marks, class_names)\n",
    "plt.yticks(tick_marks, class_names)\n",
    "# create heatmap\n",
    "sns.heatmap(pd.DataFrame(cnf_matrix), annot=True, cmap=\"YlGnBu\" ,fmt='g')\n",
    "ax.xaxis.set_label_position(\"top\")\n",
    "plt.tight_layout()\n",
    "plt.title('Confusion matrix Naive bayes', y=1.1)\n",
    "plt.ylabel('Actual label')\n",
    "plt.xlabel('Predicted label')\n",
    "\n",
    "print(classification_report(y_test,nbt_pred, labels=np.unique(nbt_pred)))\n",
    "print('roc_auc_score: {:3f}'.format(roc_auc_score(y_test, nbt_pred_proba, multi_class = 'ovr')))\n",
    "print('Accuracy Score = {:.3f}'.format(metrics.accuracy_score(y_test, nbt_pred, sample_weight = None)))"
   ]
  },
  {
   "cell_type": "markdown",
   "id": "451c005f",
   "metadata": {},
   "source": [
    "## D. Linear SVC"
   ]
  },
  {
   "cell_type": "markdown",
   "id": "69266465",
   "metadata": {},
   "source": [
    "### Linear SVC(base)"
   ]
  },
  {
   "cell_type": "code",
   "execution_count": 26,
   "id": "fef20136",
   "metadata": {},
   "outputs": [
    {
     "name": "stdout",
     "output_type": "stream",
     "text": [
      "              precision    recall  f1-score   support\n",
      "\n",
      "           0       0.69      0.51      0.59       135\n",
      "           1       0.86      0.91      0.88       853\n",
      "           2       0.83      0.89      0.86       674\n",
      "           3       0.85      0.87      0.86       275\n",
      "           4       0.77      0.75      0.76       318\n",
      "           5       0.73      0.33      0.45       112\n",
      "\n",
      "    accuracy                           0.83      2367\n",
      "   macro avg       0.79      0.71      0.73      2367\n",
      "weighted avg       0.82      0.83      0.82      2367\n",
      "\n"
     ]
    },
    {
     "data": {
      "image/png": "[encoded data removed]",
      "text/plain": [
       "<Figure size 432x288 with 2 Axes>"
      ]
     },
     "metadata": {
      "needs_background": "light"
     },
     "output_type": "display_data"
    }
   ],
   "source": [
    "svc = LinearSVC()\n",
    "svc.fit(X_train, y_train)\n",
    "svc_prediction = svc.predict(X_test) \n",
    "\n",
    "#---------------\n",
    "\n",
    "cnf_matrix = metrics.confusion_matrix(y_test,svc_prediction)\n",
    "\n",
    "class_names=[0,1,2,3,4,5] # name  of classes\n",
    "fig, ax = plt.subplots()\n",
    "tick_marks = np.arange(len(class_names))\n",
    "plt.xticks(tick_marks, class_names)\n",
    "plt.yticks(tick_marks, class_names)\n",
    "# create heatmap\n",
    "sns.heatmap(pd.DataFrame(cnf_matrix), annot=True, cmap=\"YlGnBu\" ,fmt='g')\n",
    "ax.xaxis.set_label_position(\"top\")\n",
    "plt.tight_layout()\n",
    "plt.title('Confusion matrix', y=1.1)\n",
    "plt.ylabel('Actual label')\n",
    "plt.xlabel('Predicted label')\n",
    "\n",
    "print(classification_report(y_test,svc_prediction, labels=np.unique(svc_prediction)))\n"
   ]
  },
  {
   "cell_type": "markdown",
   "id": "6773a681",
   "metadata": {},
   "source": [
    "### Linear SVC(tuned)"
   ]
  },
  {
   "cell_type": "code",
   "execution_count": 35,
   "id": "6bc25222",
   "metadata": {},
   "outputs": [
    {
     "name": "stdout",
     "output_type": "stream",
     "text": [
      "Fitting 5 folds for each of 60 candidates, totalling 300 fits\n"
     ]
    },
    {
     "data": {
      "text/plain": [
       "{'C': 10.0,\n",
       " 'max_iter': 700,\n",
       " 'multi_class': 'ovr',\n",
       " 'penalty': 'l2',\n",
       " 'random_state': 44}"
      ]
     },
     "execution_count": 35,
     "metadata": {},
     "output_type": "execute_result"
    }
   ],
   "source": [
    "svct = LinearSVC()\n",
    "cv = StratifiedKFold(n_splits=5, shuffle=True, random_state=44)\n",
    "param_grid = {\n",
    "    'penalty': ['l2'],\n",
    "    'C': np.logspace(1,4,20),\n",
    "    'multi_class':['ovr'],\n",
    "    'max_iter':[700,800,1000],\n",
    "    'random_state': [44]\n",
    "    \n",
    "}\n",
    "grid = GridSearchCV(svct, param_grid = param_grid,\n",
    "                    cv=cv,\n",
    "                    n_jobs = -1,\n",
    "                    verbose = 2\n",
    "                   )\n",
    "grid.fit(X_train, y_train)\n",
    "grid.best_params_"
   ]
  },
  {
   "cell_type": "code",
   "execution_count": 38,
   "id": "80b62f93",
   "metadata": {},
   "outputs": [
    {
     "name": "stdout",
     "output_type": "stream",
     "text": [
      "              precision    recall  f1-score   support\n",
      "\n",
      "           0       0.66      0.55      0.60       135\n",
      "           1       0.85      0.90      0.88       853\n",
      "           2       0.83      0.86      0.85       674\n",
      "           3       0.85      0.87      0.86       275\n",
      "           4       0.76      0.75      0.76       318\n",
      "           5       0.72      0.38      0.49       112\n",
      "\n",
      "    accuracy                           0.82      2367\n",
      "   macro avg       0.78      0.72      0.74      2367\n",
      "weighted avg       0.82      0.82      0.82      2367\n",
      "\n"
     ]
    },
    {
     "data": {
      "image/png": "[encoded data removed]",
      "text/plain": [
       "<Figure size 432x288 with 2 Axes>"
      ]
     },
     "metadata": {
      "needs_background": "light"
     },
     "output_type": "display_data"
    }
   ],
   "source": [
    "svct_pred = grid.predict(X_test)\n",
    "\n",
    "cnf_matrix = metrics.confusion_matrix(y_test, svct_pred)\n",
    "\n",
    "class_names=[0,1,2,3,4,5,] # name  of classes\n",
    "fig, ax = plt.subplots()\n",
    "tick_marks = np.arange(len(class_names))\n",
    "plt.xticks(tick_marks, class_names)\n",
    "plt.yticks(tick_marks, class_names)\n",
    "# create heatmap\n",
    "sns.heatmap(pd.DataFrame(cnf_matrix), annot=True, cmap=\"YlGnBu\" ,fmt='g')\n",
    "ax.xaxis.set_label_position(\"top\")\n",
    "plt.tight_layout()\n",
    "plt.title('Confusion matrix', y=1.1)\n",
    "plt.ylabel('Actual label')\n",
    "plt.xlabel('Predicted label')\n",
    "\n",
    "print(classification_report(y_test,svct_pred, labels=np.unique(svct_pred)))"
   ]
  },
  {
   "cell_type": "markdown",
   "id": "ffda4327",
   "metadata": {},
   "source": [
    "## E. XGBoost"
   ]
  },
  {
   "cell_type": "markdown",
   "id": "b301dfa1",
   "metadata": {},
   "source": [
    "### XGB(base)"
   ]
  },
  {
   "cell_type": "code",
   "execution_count": 11,
   "id": "d62ef93c",
   "metadata": {},
   "outputs": [
    {
     "name": "stdout",
     "output_type": "stream",
     "text": [
      "              precision    recall  f1-score   support\n",
      "\n",
      "           0       0.71      0.44      0.54       135\n",
      "           1       0.84      0.89      0.86       853\n",
      "           2       0.80      0.88      0.84       674\n",
      "           3       0.84      0.85      0.85       275\n",
      "           4       0.73      0.70      0.72       318\n",
      "           5       0.73      0.37      0.49       112\n",
      "\n",
      "    accuracy                           0.81      2367\n",
      "   macro avg       0.78      0.69      0.72      2367\n",
      "weighted avg       0.80      0.81      0.80      2367\n",
      "\n",
      "Accuracy Score = 0.807\n"
     ]
    },
    {
     "data": {
      "image/png": "[encoded data removed]",
      "text/plain": [
       "<Figure size 432x288 with 2 Axes>"
      ]
     },
     "metadata": {
      "needs_background": "light"
     },
     "output_type": "display_data"
    }
   ],
   "source": [
    "\n",
    "xgb = XGBClassifier(num_class = 6,\n",
    "                   objective = 'multi:softprob',\n",
    "                   eval_metric ='mlogloss',\n",
    "                   use_label_encoder=False,\n",
    "                   seed =44)\n",
    "\n",
    "xgb.fit(X_train, y_train)\n",
    "xgb_prediction = xgb.predict(X_test) \n",
    "\n",
    "#---------------\n",
    "\n",
    "cnf_matrix = metrics.confusion_matrix(y_test, xgb_prediction)\n",
    "\n",
    "class_names=[0,1,2,3,4,5] # name  of classes\n",
    "fig, ax = plt.subplots()\n",
    "tick_marks = np.arange(len(class_names))\n",
    "plt.xticks(tick_marks, class_names)\n",
    "plt.yticks(tick_marks, class_names)\n",
    "# create heatmap\n",
    "sns.heatmap(pd.DataFrame(cnf_matrix), annot=True, cmap=\"YlGnBu\" ,fmt='g')\n",
    "ax.xaxis.set_label_position(\"top\")\n",
    "plt.tight_layout()\n",
    "plt.title('Confusion matrix', y=1.1)\n",
    "plt.ylabel('Actual label')\n",
    "plt.xlabel('Predicted label')\n",
    "\n",
    "#print(classification_report(y_test,xgb_prediction, labels=np.unique(xgb_prediction)))\n",
    "\n"
   ]
  },
  {
   "cell_type": "markdown",
   "id": "77811168",
   "metadata": {},
   "source": [
    "### XGB -tuned"
   ]
  },
  {
   "cell_type": "code",
   "execution_count": 12,
   "id": "778e420b",
   "metadata": {},
   "outputs": [
    {
     "name": "stdout",
     "output_type": "stream",
     "text": [
      "Fitting 5 folds for each of 36 candidates, totalling 180 fits\n"
     ]
    },
    {
     "data": {
      "text/plain": [
       "{'gamma': 0.03, 'learning_rate': 0.05, 'max_depth': 20, 'n_estimators': 15}"
      ]
     },
     "execution_count": 12,
     "metadata": {},
     "output_type": "execute_result"
    }
   ],
   "source": [
    "xgb = XGBClassifier(num_class = 6,\n",
    "                   objective = 'multi:softprob',\n",
    "                   eval_metric ='mlogloss',\n",
    "                   use_label_encoder=False,\n",
    "                   seed =44)\n",
    "cv = StratifiedKFold(n_splits=5, shuffle=True, random_state=1) # stratified KFold considering imbalanced classes\n",
    "param_grid = {\"max_depth\": [10,15,20],\n",
    "              \"n_estimators\": range(5,20,5) , \n",
    "              \"gamma\": [0.03,0.05], \n",
    "              \"learning_rate\": [0.01,0.05]}\n",
    "grid = GridSearchCV(xgb, param_grid= param_grid,\n",
    "                    cv = cv,\n",
    "                    n_jobs = -1,\n",
    "                    scoring = 'neg_log_loss',\n",
    "                   verbose = 2)\n",
    "grid.fit(X_train, y_train)\n",
    "grid.best_params_"
   ]
  },
  {
   "cell_type": "code",
   "execution_count": 15,
   "id": "2462aa9a",
   "metadata": {},
   "outputs": [],
   "source": [
    "xgb_pred = grid.predict(X_test)                                   "
   ]
  },
  {
   "cell_type": "code",
   "execution_count": 18,
   "id": "4237288a",
   "metadata": {},
   "outputs": [
    {
     "name": "stdout",
     "output_type": "stream",
     "text": [
      "              precision    recall  f1-score   support\n",
      "\n",
      "           0       0.58      0.39      0.46       135\n",
      "           1       0.81      0.86      0.83       853\n",
      "           2       0.77      0.84      0.80       674\n",
      "           3       0.81      0.83      0.82       275\n",
      "           4       0.69      0.68      0.68       318\n",
      "           5       0.65      0.30      0.41       112\n",
      "\n",
      "    accuracy                           0.77      2367\n",
      "   macro avg       0.72      0.65      0.67      2367\n",
      "weighted avg       0.76      0.77      0.76      2367\n",
      "\n"
     ]
    },
    {
     "data": {
      "image/png": "[encoded data removed]",
      "text/plain": [
       "<Figure size 432x288 with 2 Axes>"
      ]
     },
     "metadata": {
      "needs_background": "light"
     },
     "output_type": "display_data"
    }
   ],
   "source": [
    "cnf_matrix = metrics.confusion_matrix(y_test, xgb_pred)\n",
    "\n",
    "class_names=[0,1,2,3,4,5] # name  of classes\n",
    "fig, ax = plt.subplots()\n",
    "tick_marks = np.arange(len(class_names))\n",
    "plt.xticks(tick_marks, class_names)\n",
    "plt.yticks(tick_marks, class_names)\n",
    "# create heatmap\n",
    "sns.heatmap(pd.DataFrame(cnf_matrix), annot=True, cmap=\"YlGnBu\" ,fmt='g')\n",
    "ax.xaxis.set_label_position(\"top\")\n",
    "plt.tight_layout()\n",
    "plt.title('Confusion matrix', y=1.1)\n",
    "plt.ylabel('Actual label')\n",
    "plt.xlabel('Predicted label')\n",
    "\n",
    "print(classification_report(y_test,xgb_pred, labels=np.unique(xgb_pred)))"
   ]
  },
  {
   "cell_type": "markdown",
   "id": "71999325",
   "metadata": {},
   "source": [
    "## Appendix"
   ]
  },
  {
   "cell_type": "code",
   "execution_count": 36,
   "id": "2922874d",
   "metadata": {},
   "outputs": [
    {
     "data": {
      "text/plain": [
       "'1.0.1'"
      ]
     },
     "execution_count": 36,
     "metadata": {},
     "output_type": "execute_result"
    }
   ],
   "source": [
    "import sklearn\n",
    "sklearn.__version__"
   ]
  }
 ],
 "metadata": {
  "kernelspec": {
   "display_name": "Python 3 (ipykernel)",
   "language": "python",
   "name": "python3"
  },
  "language_info": {
   "codemirror_mode": {
    "name": "ipython",
    "version": 3
   },
   "file_extension": ".py",
   "mimetype": "text/x-python",
   "name": "python",
   "nbconvert_exporter": "python",
   "pygments_lexer": "ipython3",
   "version": "3.9.7"
  },
  "toc": {
   "base_numbering": 1,
   "nav_menu": {},
   "number_sections": false,
   "sideBar": true,
   "skip_h1_title": false,
   "title_cell": "Table of Contents",
   "title_sidebar": "Contents",
   "toc_cell": false,
   "toc_position": {
    "height": "calc(100% - 180px)",
    "left": "10px",
    "top": "150px",
    "width": "217.667px"
   },
   "toc_section_display": true,
   "toc_window_display": true
  }
 },
 "nbformat": 4,
 "nbformat_minor": 5
}
